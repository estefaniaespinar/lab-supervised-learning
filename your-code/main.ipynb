{
 "cells": [
  {
   "cell_type": "markdown",
   "metadata": {},
   "source": [
    "# Before your start:\n",
    "- Read the README.md file\n",
    "- Comment as much as you can and use the resources in the README.md file\n",
    "- Happy learning!"
   ]
  },
  {
   "cell_type": "code",
   "execution_count": 1,
   "metadata": {},
   "outputs": [],
   "source": [
    "# Import your libraries:\n",
    "\n",
    "%matplotlib inline\n",
    "\n",
    "import numpy as np\n",
    "import pandas as pd\n",
    "import seaborn as sns"
   ]
  },
  {
   "cell_type": "markdown",
   "metadata": {},
   "source": [
    "In this lab, we will explore a dataset that describes websites with different features and labels them either benign or malicious . We will use supervised learning algorithms to figure out what feature patterns malicious websites are likely to have and use our model to predict malicious websites.\n",
    "\n",
    "# Challenge 1 - Explore The Dataset\n",
    "\n",
    "Let's start by exploring the dataset. First load the data file:"
   ]
  },
  {
   "cell_type": "code",
   "execution_count": 2,
   "metadata": {},
   "outputs": [],
   "source": [
    "websites = pd.read_csv('../data/website.csv')"
   ]
  },
  {
   "cell_type": "markdown",
   "metadata": {},
   "source": [
    "#### Explore the data from an bird's-eye view.\n",
    "\n",
    "You should already been very familiar with the procedures now so we won't provide the instructions step by step. Reflect on what you did in the previous labs and explore the dataset.\n",
    "\n",
    "Things you'll be looking for:\n",
    "\n",
    "* What the dataset looks like?\n",
    "* What are the data types?\n",
    "* Which columns contain the features of the websites?\n",
    "* Which column contains the feature we will predict? What is the code standing for benign vs malicious websites?\n",
    "* Do we need to transform any of the columns from categorical to ordinal values? If so what are these columns?\n",
    "\n",
    "Feel free to add additional cells for your explorations. Make sure to comment what you find out."
   ]
  },
  {
   "cell_type": "code",
   "execution_count": 3,
   "metadata": {},
   "outputs": [
    {
     "data": {
      "text/html": [
       "<div>\n",
       "<style scoped>\n",
       "    .dataframe tbody tr th:only-of-type {\n",
       "        vertical-align: middle;\n",
       "    }\n",
       "\n",
       "    .dataframe tbody tr th {\n",
       "        vertical-align: top;\n",
       "    }\n",
       "\n",
       "    .dataframe thead th {\n",
       "        text-align: right;\n",
       "    }\n",
       "</style>\n",
       "<table border=\"1\" class=\"dataframe\">\n",
       "  <thead>\n",
       "    <tr style=\"text-align: right;\">\n",
       "      <th></th>\n",
       "      <th>URL</th>\n",
       "      <th>URL_LENGTH</th>\n",
       "      <th>NUMBER_SPECIAL_CHARACTERS</th>\n",
       "      <th>CHARSET</th>\n",
       "      <th>SERVER</th>\n",
       "      <th>CONTENT_LENGTH</th>\n",
       "      <th>WHOIS_COUNTRY</th>\n",
       "      <th>WHOIS_STATEPRO</th>\n",
       "      <th>WHOIS_REGDATE</th>\n",
       "      <th>WHOIS_UPDATED_DATE</th>\n",
       "      <th>...</th>\n",
       "      <th>DIST_REMOTE_TCP_PORT</th>\n",
       "      <th>REMOTE_IPS</th>\n",
       "      <th>APP_BYTES</th>\n",
       "      <th>SOURCE_APP_PACKETS</th>\n",
       "      <th>REMOTE_APP_PACKETS</th>\n",
       "      <th>SOURCE_APP_BYTES</th>\n",
       "      <th>REMOTE_APP_BYTES</th>\n",
       "      <th>APP_PACKETS</th>\n",
       "      <th>DNS_QUERY_TIMES</th>\n",
       "      <th>Type</th>\n",
       "    </tr>\n",
       "  </thead>\n",
       "  <tbody>\n",
       "    <tr>\n",
       "      <th>0</th>\n",
       "      <td>M0_109</td>\n",
       "      <td>16</td>\n",
       "      <td>7</td>\n",
       "      <td>iso-8859-1</td>\n",
       "      <td>nginx</td>\n",
       "      <td>263.0</td>\n",
       "      <td>None</td>\n",
       "      <td>None</td>\n",
       "      <td>10/10/2015 18:21</td>\n",
       "      <td>None</td>\n",
       "      <td>...</td>\n",
       "      <td>0</td>\n",
       "      <td>2</td>\n",
       "      <td>700</td>\n",
       "      <td>9</td>\n",
       "      <td>10</td>\n",
       "      <td>1153</td>\n",
       "      <td>832</td>\n",
       "      <td>9</td>\n",
       "      <td>2.0</td>\n",
       "      <td>1</td>\n",
       "    </tr>\n",
       "    <tr>\n",
       "      <th>1</th>\n",
       "      <td>B0_2314</td>\n",
       "      <td>16</td>\n",
       "      <td>6</td>\n",
       "      <td>UTF-8</td>\n",
       "      <td>Apache/2.4.10</td>\n",
       "      <td>15087.0</td>\n",
       "      <td>None</td>\n",
       "      <td>None</td>\n",
       "      <td>None</td>\n",
       "      <td>None</td>\n",
       "      <td>...</td>\n",
       "      <td>7</td>\n",
       "      <td>4</td>\n",
       "      <td>1230</td>\n",
       "      <td>17</td>\n",
       "      <td>19</td>\n",
       "      <td>1265</td>\n",
       "      <td>1230</td>\n",
       "      <td>17</td>\n",
       "      <td>0.0</td>\n",
       "      <td>0</td>\n",
       "    </tr>\n",
       "    <tr>\n",
       "      <th>2</th>\n",
       "      <td>B0_911</td>\n",
       "      <td>16</td>\n",
       "      <td>6</td>\n",
       "      <td>us-ascii</td>\n",
       "      <td>Microsoft-HTTPAPI/2.0</td>\n",
       "      <td>324.0</td>\n",
       "      <td>None</td>\n",
       "      <td>None</td>\n",
       "      <td>None</td>\n",
       "      <td>None</td>\n",
       "      <td>...</td>\n",
       "      <td>0</td>\n",
       "      <td>0</td>\n",
       "      <td>0</td>\n",
       "      <td>0</td>\n",
       "      <td>0</td>\n",
       "      <td>0</td>\n",
       "      <td>0</td>\n",
       "      <td>0</td>\n",
       "      <td>0.0</td>\n",
       "      <td>0</td>\n",
       "    </tr>\n",
       "    <tr>\n",
       "      <th>3</th>\n",
       "      <td>B0_113</td>\n",
       "      <td>17</td>\n",
       "      <td>6</td>\n",
       "      <td>ISO-8859-1</td>\n",
       "      <td>nginx</td>\n",
       "      <td>162.0</td>\n",
       "      <td>US</td>\n",
       "      <td>AK</td>\n",
       "      <td>7/10/1997 4:00</td>\n",
       "      <td>12/09/2013 0:45</td>\n",
       "      <td>...</td>\n",
       "      <td>22</td>\n",
       "      <td>3</td>\n",
       "      <td>3812</td>\n",
       "      <td>39</td>\n",
       "      <td>37</td>\n",
       "      <td>18784</td>\n",
       "      <td>4380</td>\n",
       "      <td>39</td>\n",
       "      <td>8.0</td>\n",
       "      <td>0</td>\n",
       "    </tr>\n",
       "    <tr>\n",
       "      <th>4</th>\n",
       "      <td>B0_403</td>\n",
       "      <td>17</td>\n",
       "      <td>6</td>\n",
       "      <td>UTF-8</td>\n",
       "      <td>None</td>\n",
       "      <td>124140.0</td>\n",
       "      <td>US</td>\n",
       "      <td>TX</td>\n",
       "      <td>12/05/1996 0:00</td>\n",
       "      <td>11/04/2017 0:00</td>\n",
       "      <td>...</td>\n",
       "      <td>2</td>\n",
       "      <td>5</td>\n",
       "      <td>4278</td>\n",
       "      <td>61</td>\n",
       "      <td>62</td>\n",
       "      <td>129889</td>\n",
       "      <td>4586</td>\n",
       "      <td>61</td>\n",
       "      <td>4.0</td>\n",
       "      <td>0</td>\n",
       "    </tr>\n",
       "  </tbody>\n",
       "</table>\n",
       "<p>5 rows × 21 columns</p>\n",
       "</div>"
      ],
      "text/plain": [
       "       URL  URL_LENGTH  NUMBER_SPECIAL_CHARACTERS     CHARSET  \\\n",
       "0   M0_109          16                          7  iso-8859-1   \n",
       "1  B0_2314          16                          6       UTF-8   \n",
       "2   B0_911          16                          6    us-ascii   \n",
       "3   B0_113          17                          6  ISO-8859-1   \n",
       "4   B0_403          17                          6       UTF-8   \n",
       "\n",
       "                  SERVER  CONTENT_LENGTH WHOIS_COUNTRY WHOIS_STATEPRO  \\\n",
       "0                  nginx           263.0          None           None   \n",
       "1          Apache/2.4.10         15087.0          None           None   \n",
       "2  Microsoft-HTTPAPI/2.0           324.0          None           None   \n",
       "3                  nginx           162.0            US             AK   \n",
       "4                   None        124140.0            US             TX   \n",
       "\n",
       "      WHOIS_REGDATE WHOIS_UPDATED_DATE  ...  DIST_REMOTE_TCP_PORT  REMOTE_IPS  \\\n",
       "0  10/10/2015 18:21               None  ...                     0           2   \n",
       "1              None               None  ...                     7           4   \n",
       "2              None               None  ...                     0           0   \n",
       "3    7/10/1997 4:00    12/09/2013 0:45  ...                    22           3   \n",
       "4   12/05/1996 0:00    11/04/2017 0:00  ...                     2           5   \n",
       "\n",
       "   APP_BYTES  SOURCE_APP_PACKETS  REMOTE_APP_PACKETS  SOURCE_APP_BYTES  \\\n",
       "0        700                   9                  10              1153   \n",
       "1       1230                  17                  19              1265   \n",
       "2          0                   0                   0                 0   \n",
       "3       3812                  39                  37             18784   \n",
       "4       4278                  61                  62            129889   \n",
       "\n",
       "   REMOTE_APP_BYTES  APP_PACKETS  DNS_QUERY_TIMES  Type  \n",
       "0               832            9              2.0     1  \n",
       "1              1230           17              0.0     0  \n",
       "2                 0            0              0.0     0  \n",
       "3              4380           39              8.0     0  \n",
       "4              4586           61              4.0     0  \n",
       "\n",
       "[5 rows x 21 columns]"
      ]
     },
     "execution_count": 3,
     "metadata": {},
     "output_type": "execute_result"
    }
   ],
   "source": [
    "# Checking the head to get to know our dataset\n",
    "websites.head()"
   ]
  },
  {
   "cell_type": "code",
   "execution_count": 4,
   "metadata": {},
   "outputs": [
    {
     "data": {
      "text/plain": [
       "(1781, 21)"
      ]
     },
     "execution_count": 4,
     "metadata": {},
     "output_type": "execute_result"
    }
   ],
   "source": [
    "# Checking the sahepe of our dataset\n",
    "websites.shape"
   ]
  },
  {
   "cell_type": "code",
   "execution_count": 5,
   "metadata": {},
   "outputs": [
    {
     "data": {
      "text/plain": [
       "Index(['URL', 'URL_LENGTH', 'NUMBER_SPECIAL_CHARACTERS', 'CHARSET', 'SERVER',\n",
       "       'CONTENT_LENGTH', 'WHOIS_COUNTRY', 'WHOIS_STATEPRO', 'WHOIS_REGDATE',\n",
       "       'WHOIS_UPDATED_DATE', 'TCP_CONVERSATION_EXCHANGE',\n",
       "       'DIST_REMOTE_TCP_PORT', 'REMOTE_IPS', 'APP_BYTES', 'SOURCE_APP_PACKETS',\n",
       "       'REMOTE_APP_PACKETS', 'SOURCE_APP_BYTES', 'REMOTE_APP_BYTES',\n",
       "       'APP_PACKETS', 'DNS_QUERY_TIMES', 'Type'],\n",
       "      dtype='object')"
      ]
     },
     "execution_count": 5,
     "metadata": {},
     "output_type": "execute_result"
    }
   ],
   "source": [
    "# Checking the columns of our dataset\n",
    "websites.columns"
   ]
  },
  {
   "cell_type": "code",
   "execution_count": 6,
   "metadata": {},
   "outputs": [
    {
     "data": {
      "text/plain": [
       "URL                            0\n",
       "URL_LENGTH                     0\n",
       "NUMBER_SPECIAL_CHARACTERS      0\n",
       "CHARSET                        0\n",
       "SERVER                         1\n",
       "CONTENT_LENGTH               812\n",
       "WHOIS_COUNTRY                  0\n",
       "WHOIS_STATEPRO                 0\n",
       "WHOIS_REGDATE                  0\n",
       "WHOIS_UPDATED_DATE             0\n",
       "TCP_CONVERSATION_EXCHANGE      0\n",
       "DIST_REMOTE_TCP_PORT           0\n",
       "REMOTE_IPS                     0\n",
       "APP_BYTES                      0\n",
       "SOURCE_APP_PACKETS             0\n",
       "REMOTE_APP_PACKETS             0\n",
       "SOURCE_APP_BYTES               0\n",
       "REMOTE_APP_BYTES               0\n",
       "APP_PACKETS                    0\n",
       "DNS_QUERY_TIMES                1\n",
       "Type                           0\n",
       "dtype: int64"
      ]
     },
     "execution_count": 6,
     "metadata": {},
     "output_type": "execute_result"
    }
   ],
   "source": [
    "# Checking the nulls:\n",
    "websites.isnull().sum()"
   ]
  },
  {
   "cell_type": "code",
   "execution_count": 7,
   "metadata": {},
   "outputs": [],
   "source": [
    "# I decide to drop CONTENT_LENGTH column because almost 50% of the data is missing for this column.\n",
    "\n",
    "num = websites.CONTENT_LENGTH.isnull().sum()/websites.CONTENT_LENGTH.size*100"
   ]
  },
  {
   "cell_type": "code",
   "execution_count": 8,
   "metadata": {},
   "outputs": [
    {
     "name": "stdout",
     "output_type": "stream",
     "text": [
      "45.6 % of the data is missing\n"
     ]
    }
   ],
   "source": [
    "print(f'{num:.3g} % of the data is missing')"
   ]
  },
  {
   "cell_type": "code",
   "execution_count": 9,
   "metadata": {},
   "outputs": [],
   "source": [
    "websites.drop('CONTENT_LENGTH', axis=1, inplace = True)"
   ]
  },
  {
   "cell_type": "code",
   "execution_count": 10,
   "metadata": {},
   "outputs": [
    {
     "data": {
      "text/plain": [
       "URL                           object\n",
       "URL_LENGTH                     int64\n",
       "NUMBER_SPECIAL_CHARACTERS      int64\n",
       "CHARSET                       object\n",
       "SERVER                        object\n",
       "WHOIS_COUNTRY                 object\n",
       "WHOIS_STATEPRO                object\n",
       "WHOIS_REGDATE                 object\n",
       "WHOIS_UPDATED_DATE            object\n",
       "TCP_CONVERSATION_EXCHANGE      int64\n",
       "DIST_REMOTE_TCP_PORT           int64\n",
       "REMOTE_IPS                     int64\n",
       "APP_BYTES                      int64\n",
       "SOURCE_APP_PACKETS             int64\n",
       "REMOTE_APP_PACKETS             int64\n",
       "SOURCE_APP_BYTES               int64\n",
       "REMOTE_APP_BYTES               int64\n",
       "APP_PACKETS                    int64\n",
       "DNS_QUERY_TIMES              float64\n",
       "Type                           int64\n",
       "dtype: object"
      ]
     },
     "execution_count": 10,
     "metadata": {},
     "output_type": "execute_result"
    }
   ],
   "source": [
    "#Checking the types of the columns in our dataset to see if we have to change something:\n",
    "websites.dtypes"
   ]
  },
  {
   "cell_type": "markdown",
   "metadata": {},
   "source": [
    "Which column contains the feature we will predict? Type What is the code standing for benign vs malicious websites? 1 VS 0\n",
    "\n",
    "Do we need to transform any of the columns from categorical to ordinal values? If so what are these columns?"
   ]
  },
  {
   "cell_type": "markdown",
   "metadata": {},
   "source": [
    "#### Next, evaluate if the columns in this dataset are strongly correlated.\n",
    "\n",
    "If our dataset has strongly correlated columns, we need to choose certain ML algorithms instead of others. We need to evaluate this for our dataset now.\n",
    "\n",
    "Luckily, most of the columns in this dataset are ordinal which makes things a lot easier for us. In the next cells below, evaluate the level of collinearity of the data.\n",
    "\n",
    "We provide some general directions for you to consult in order to complete this step:\n",
    "\n",
    "1. You will create a correlation matrix using the numeric columns in the dataset.\n",
    "\n",
    "1. Create a heatmap using `seaborn` to visualize which columns have high collinearity.\n",
    "\n",
    "1. Comment on which columns you might need to remove due to high collinearity."
   ]
  },
  {
   "cell_type": "code",
   "execution_count": 11,
   "metadata": {},
   "outputs": [
    {
     "data": {
      "text/html": [
       "<div>\n",
       "<style scoped>\n",
       "    .dataframe tbody tr th:only-of-type {\n",
       "        vertical-align: middle;\n",
       "    }\n",
       "\n",
       "    .dataframe tbody tr th {\n",
       "        vertical-align: top;\n",
       "    }\n",
       "\n",
       "    .dataframe thead th {\n",
       "        text-align: right;\n",
       "    }\n",
       "</style>\n",
       "<table border=\"1\" class=\"dataframe\">\n",
       "  <thead>\n",
       "    <tr style=\"text-align: right;\">\n",
       "      <th></th>\n",
       "      <th>URL_LENGTH</th>\n",
       "      <th>NUMBER_SPECIAL_CHARACTERS</th>\n",
       "      <th>TCP_CONVERSATION_EXCHANGE</th>\n",
       "      <th>DIST_REMOTE_TCP_PORT</th>\n",
       "      <th>REMOTE_IPS</th>\n",
       "      <th>APP_BYTES</th>\n",
       "      <th>SOURCE_APP_PACKETS</th>\n",
       "      <th>REMOTE_APP_PACKETS</th>\n",
       "      <th>SOURCE_APP_BYTES</th>\n",
       "      <th>REMOTE_APP_BYTES</th>\n",
       "      <th>APP_PACKETS</th>\n",
       "      <th>DNS_QUERY_TIMES</th>\n",
       "      <th>Type</th>\n",
       "    </tr>\n",
       "  </thead>\n",
       "  <tbody>\n",
       "    <tr>\n",
       "      <th>URL_LENGTH</th>\n",
       "      <td>1.000000</td>\n",
       "      <td>0.917986</td>\n",
       "      <td>-0.038407</td>\n",
       "      <td>-0.039839</td>\n",
       "      <td>-0.046367</td>\n",
       "      <td>-0.026446</td>\n",
       "      <td>-0.042264</td>\n",
       "      <td>-0.033779</td>\n",
       "      <td>-0.014857</td>\n",
       "      <td>-0.026686</td>\n",
       "      <td>-0.042264</td>\n",
       "      <td>-0.068582</td>\n",
       "      <td>0.162104</td>\n",
       "    </tr>\n",
       "    <tr>\n",
       "      <th>NUMBER_SPECIAL_CHARACTERS</th>\n",
       "      <td>0.917986</td>\n",
       "      <td>1.000000</td>\n",
       "      <td>-0.037459</td>\n",
       "      <td>-0.042619</td>\n",
       "      <td>-0.047103</td>\n",
       "      <td>-0.023914</td>\n",
       "      <td>-0.040096</td>\n",
       "      <td>-0.030597</td>\n",
       "      <td>-0.014376</td>\n",
       "      <td>-0.024098</td>\n",
       "      <td>-0.040096</td>\n",
       "      <td>-0.050048</td>\n",
       "      <td>0.280897</td>\n",
       "    </tr>\n",
       "    <tr>\n",
       "      <th>TCP_CONVERSATION_EXCHANGE</th>\n",
       "      <td>-0.038407</td>\n",
       "      <td>-0.037459</td>\n",
       "      <td>1.000000</td>\n",
       "      <td>0.555188</td>\n",
       "      <td>0.331080</td>\n",
       "      <td>0.457320</td>\n",
       "      <td>0.997796</td>\n",
       "      <td>0.990848</td>\n",
       "      <td>0.865580</td>\n",
       "      <td>0.458702</td>\n",
       "      <td>0.997796</td>\n",
       "      <td>0.349832</td>\n",
       "      <td>-0.040202</td>\n",
       "    </tr>\n",
       "    <tr>\n",
       "      <th>DIST_REMOTE_TCP_PORT</th>\n",
       "      <td>-0.039839</td>\n",
       "      <td>-0.042619</td>\n",
       "      <td>0.555188</td>\n",
       "      <td>1.000000</td>\n",
       "      <td>0.210188</td>\n",
       "      <td>0.780238</td>\n",
       "      <td>0.558612</td>\n",
       "      <td>0.591188</td>\n",
       "      <td>0.313359</td>\n",
       "      <td>0.781212</td>\n",
       "      <td>0.558612</td>\n",
       "      <td>0.259942</td>\n",
       "      <td>-0.082925</td>\n",
       "    </tr>\n",
       "    <tr>\n",
       "      <th>REMOTE_IPS</th>\n",
       "      <td>-0.046367</td>\n",
       "      <td>-0.047103</td>\n",
       "      <td>0.331080</td>\n",
       "      <td>0.210188</td>\n",
       "      <td>1.000000</td>\n",
       "      <td>0.023126</td>\n",
       "      <td>0.361104</td>\n",
       "      <td>0.304683</td>\n",
       "      <td>0.171651</td>\n",
       "      <td>0.025324</td>\n",
       "      <td>0.361104</td>\n",
       "      <td>0.548189</td>\n",
       "      <td>-0.078783</td>\n",
       "    </tr>\n",
       "    <tr>\n",
       "      <th>APP_BYTES</th>\n",
       "      <td>-0.026446</td>\n",
       "      <td>-0.023914</td>\n",
       "      <td>0.457320</td>\n",
       "      <td>0.780238</td>\n",
       "      <td>0.023126</td>\n",
       "      <td>1.000000</td>\n",
       "      <td>0.445822</td>\n",
       "      <td>0.468999</td>\n",
       "      <td>0.074464</td>\n",
       "      <td>0.999992</td>\n",
       "      <td>0.445822</td>\n",
       "      <td>0.012221</td>\n",
       "      <td>-0.011262</td>\n",
       "    </tr>\n",
       "    <tr>\n",
       "      <th>SOURCE_APP_PACKETS</th>\n",
       "      <td>-0.042264</td>\n",
       "      <td>-0.040096</td>\n",
       "      <td>0.997796</td>\n",
       "      <td>0.558612</td>\n",
       "      <td>0.361104</td>\n",
       "      <td>0.445822</td>\n",
       "      <td>1.000000</td>\n",
       "      <td>0.989285</td>\n",
       "      <td>0.857495</td>\n",
       "      <td>0.447448</td>\n",
       "      <td>1.000000</td>\n",
       "      <td>0.410843</td>\n",
       "      <td>-0.034414</td>\n",
       "    </tr>\n",
       "    <tr>\n",
       "      <th>REMOTE_APP_PACKETS</th>\n",
       "      <td>-0.033779</td>\n",
       "      <td>-0.030597</td>\n",
       "      <td>0.990848</td>\n",
       "      <td>0.591188</td>\n",
       "      <td>0.304683</td>\n",
       "      <td>0.468999</td>\n",
       "      <td>0.989285</td>\n",
       "      <td>1.000000</td>\n",
       "      <td>0.880555</td>\n",
       "      <td>0.470401</td>\n",
       "      <td>0.989285</td>\n",
       "      <td>0.355716</td>\n",
       "      <td>-0.032897</td>\n",
       "    </tr>\n",
       "    <tr>\n",
       "      <th>SOURCE_APP_BYTES</th>\n",
       "      <td>-0.014857</td>\n",
       "      <td>-0.014376</td>\n",
       "      <td>0.865580</td>\n",
       "      <td>0.313359</td>\n",
       "      <td>0.171651</td>\n",
       "      <td>0.074464</td>\n",
       "      <td>0.857495</td>\n",
       "      <td>0.880555</td>\n",
       "      <td>1.000000</td>\n",
       "      <td>0.075328</td>\n",
       "      <td>0.857495</td>\n",
       "      <td>0.215285</td>\n",
       "      <td>-0.043852</td>\n",
       "    </tr>\n",
       "    <tr>\n",
       "      <th>REMOTE_APP_BYTES</th>\n",
       "      <td>-0.026686</td>\n",
       "      <td>-0.024098</td>\n",
       "      <td>0.458702</td>\n",
       "      <td>0.781212</td>\n",
       "      <td>0.025324</td>\n",
       "      <td>0.999992</td>\n",
       "      <td>0.447448</td>\n",
       "      <td>0.470401</td>\n",
       "      <td>0.075328</td>\n",
       "      <td>1.000000</td>\n",
       "      <td>0.447448</td>\n",
       "      <td>0.016215</td>\n",
       "      <td>-0.011004</td>\n",
       "    </tr>\n",
       "    <tr>\n",
       "      <th>APP_PACKETS</th>\n",
       "      <td>-0.042264</td>\n",
       "      <td>-0.040096</td>\n",
       "      <td>0.997796</td>\n",
       "      <td>0.558612</td>\n",
       "      <td>0.361104</td>\n",
       "      <td>0.445822</td>\n",
       "      <td>1.000000</td>\n",
       "      <td>0.989285</td>\n",
       "      <td>0.857495</td>\n",
       "      <td>0.447448</td>\n",
       "      <td>1.000000</td>\n",
       "      <td>0.410843</td>\n",
       "      <td>-0.034414</td>\n",
       "    </tr>\n",
       "    <tr>\n",
       "      <th>DNS_QUERY_TIMES</th>\n",
       "      <td>-0.068582</td>\n",
       "      <td>-0.050048</td>\n",
       "      <td>0.349832</td>\n",
       "      <td>0.259942</td>\n",
       "      <td>0.548189</td>\n",
       "      <td>0.012221</td>\n",
       "      <td>0.410843</td>\n",
       "      <td>0.355716</td>\n",
       "      <td>0.215285</td>\n",
       "      <td>0.016215</td>\n",
       "      <td>0.410843</td>\n",
       "      <td>1.000000</td>\n",
       "      <td>0.068753</td>\n",
       "    </tr>\n",
       "    <tr>\n",
       "      <th>Type</th>\n",
       "      <td>0.162104</td>\n",
       "      <td>0.280897</td>\n",
       "      <td>-0.040202</td>\n",
       "      <td>-0.082925</td>\n",
       "      <td>-0.078783</td>\n",
       "      <td>-0.011262</td>\n",
       "      <td>-0.034414</td>\n",
       "      <td>-0.032897</td>\n",
       "      <td>-0.043852</td>\n",
       "      <td>-0.011004</td>\n",
       "      <td>-0.034414</td>\n",
       "      <td>0.068753</td>\n",
       "      <td>1.000000</td>\n",
       "    </tr>\n",
       "  </tbody>\n",
       "</table>\n",
       "</div>"
      ],
      "text/plain": [
       "                           URL_LENGTH  NUMBER_SPECIAL_CHARACTERS  \\\n",
       "URL_LENGTH                   1.000000                   0.917986   \n",
       "NUMBER_SPECIAL_CHARACTERS    0.917986                   1.000000   \n",
       "TCP_CONVERSATION_EXCHANGE   -0.038407                  -0.037459   \n",
       "DIST_REMOTE_TCP_PORT        -0.039839                  -0.042619   \n",
       "REMOTE_IPS                  -0.046367                  -0.047103   \n",
       "APP_BYTES                   -0.026446                  -0.023914   \n",
       "SOURCE_APP_PACKETS          -0.042264                  -0.040096   \n",
       "REMOTE_APP_PACKETS          -0.033779                  -0.030597   \n",
       "SOURCE_APP_BYTES            -0.014857                  -0.014376   \n",
       "REMOTE_APP_BYTES            -0.026686                  -0.024098   \n",
       "APP_PACKETS                 -0.042264                  -0.040096   \n",
       "DNS_QUERY_TIMES             -0.068582                  -0.050048   \n",
       "Type                         0.162104                   0.280897   \n",
       "\n",
       "                           TCP_CONVERSATION_EXCHANGE  DIST_REMOTE_TCP_PORT  \\\n",
       "URL_LENGTH                                 -0.038407             -0.039839   \n",
       "NUMBER_SPECIAL_CHARACTERS                  -0.037459             -0.042619   \n",
       "TCP_CONVERSATION_EXCHANGE                   1.000000              0.555188   \n",
       "DIST_REMOTE_TCP_PORT                        0.555188              1.000000   \n",
       "REMOTE_IPS                                  0.331080              0.210188   \n",
       "APP_BYTES                                   0.457320              0.780238   \n",
       "SOURCE_APP_PACKETS                          0.997796              0.558612   \n",
       "REMOTE_APP_PACKETS                          0.990848              0.591188   \n",
       "SOURCE_APP_BYTES                            0.865580              0.313359   \n",
       "REMOTE_APP_BYTES                            0.458702              0.781212   \n",
       "APP_PACKETS                                 0.997796              0.558612   \n",
       "DNS_QUERY_TIMES                             0.349832              0.259942   \n",
       "Type                                       -0.040202             -0.082925   \n",
       "\n",
       "                           REMOTE_IPS  APP_BYTES  SOURCE_APP_PACKETS  \\\n",
       "URL_LENGTH                  -0.046367  -0.026446           -0.042264   \n",
       "NUMBER_SPECIAL_CHARACTERS   -0.047103  -0.023914           -0.040096   \n",
       "TCP_CONVERSATION_EXCHANGE    0.331080   0.457320            0.997796   \n",
       "DIST_REMOTE_TCP_PORT         0.210188   0.780238            0.558612   \n",
       "REMOTE_IPS                   1.000000   0.023126            0.361104   \n",
       "APP_BYTES                    0.023126   1.000000            0.445822   \n",
       "SOURCE_APP_PACKETS           0.361104   0.445822            1.000000   \n",
       "REMOTE_APP_PACKETS           0.304683   0.468999            0.989285   \n",
       "SOURCE_APP_BYTES             0.171651   0.074464            0.857495   \n",
       "REMOTE_APP_BYTES             0.025324   0.999992            0.447448   \n",
       "APP_PACKETS                  0.361104   0.445822            1.000000   \n",
       "DNS_QUERY_TIMES              0.548189   0.012221            0.410843   \n",
       "Type                        -0.078783  -0.011262           -0.034414   \n",
       "\n",
       "                           REMOTE_APP_PACKETS  SOURCE_APP_BYTES  \\\n",
       "URL_LENGTH                          -0.033779         -0.014857   \n",
       "NUMBER_SPECIAL_CHARACTERS           -0.030597         -0.014376   \n",
       "TCP_CONVERSATION_EXCHANGE            0.990848          0.865580   \n",
       "DIST_REMOTE_TCP_PORT                 0.591188          0.313359   \n",
       "REMOTE_IPS                           0.304683          0.171651   \n",
       "APP_BYTES                            0.468999          0.074464   \n",
       "SOURCE_APP_PACKETS                   0.989285          0.857495   \n",
       "REMOTE_APP_PACKETS                   1.000000          0.880555   \n",
       "SOURCE_APP_BYTES                     0.880555          1.000000   \n",
       "REMOTE_APP_BYTES                     0.470401          0.075328   \n",
       "APP_PACKETS                          0.989285          0.857495   \n",
       "DNS_QUERY_TIMES                      0.355716          0.215285   \n",
       "Type                                -0.032897         -0.043852   \n",
       "\n",
       "                           REMOTE_APP_BYTES  APP_PACKETS  DNS_QUERY_TIMES  \\\n",
       "URL_LENGTH                        -0.026686    -0.042264        -0.068582   \n",
       "NUMBER_SPECIAL_CHARACTERS         -0.024098    -0.040096        -0.050048   \n",
       "TCP_CONVERSATION_EXCHANGE          0.458702     0.997796         0.349832   \n",
       "DIST_REMOTE_TCP_PORT               0.781212     0.558612         0.259942   \n",
       "REMOTE_IPS                         0.025324     0.361104         0.548189   \n",
       "APP_BYTES                          0.999992     0.445822         0.012221   \n",
       "SOURCE_APP_PACKETS                 0.447448     1.000000         0.410843   \n",
       "REMOTE_APP_PACKETS                 0.470401     0.989285         0.355716   \n",
       "SOURCE_APP_BYTES                   0.075328     0.857495         0.215285   \n",
       "REMOTE_APP_BYTES                   1.000000     0.447448         0.016215   \n",
       "APP_PACKETS                        0.447448     1.000000         0.410843   \n",
       "DNS_QUERY_TIMES                    0.016215     0.410843         1.000000   \n",
       "Type                              -0.011004    -0.034414         0.068753   \n",
       "\n",
       "                               Type  \n",
       "URL_LENGTH                 0.162104  \n",
       "NUMBER_SPECIAL_CHARACTERS  0.280897  \n",
       "TCP_CONVERSATION_EXCHANGE -0.040202  \n",
       "DIST_REMOTE_TCP_PORT      -0.082925  \n",
       "REMOTE_IPS                -0.078783  \n",
       "APP_BYTES                 -0.011262  \n",
       "SOURCE_APP_PACKETS        -0.034414  \n",
       "REMOTE_APP_PACKETS        -0.032897  \n",
       "SOURCE_APP_BYTES          -0.043852  \n",
       "REMOTE_APP_BYTES          -0.011004  \n",
       "APP_PACKETS               -0.034414  \n",
       "DNS_QUERY_TIMES            0.068753  \n",
       "Type                       1.000000  "
      ]
     },
     "execution_count": 11,
     "metadata": {},
     "output_type": "execute_result"
    }
   ],
   "source": [
    "# Your code here\n",
    "corr_tab = websites.corr()\n",
    "corr_tab"
   ]
  },
  {
   "cell_type": "code",
   "execution_count": 12,
   "metadata": {},
   "outputs": [
    {
     "data": {
      "text/plain": [
       "<matplotlib.axes._subplots.AxesSubplot at 0x1a238920f0>"
      ]
     },
     "execution_count": 12,
     "metadata": {},
     "output_type": "execute_result"
    },
    {
     "data": {
      "image/png": "[encoded data removed]",
      "text/plain": [
       "<Figure size 432x288 with 2 Axes>"
      ]
     },
     "metadata": {
      "needs_background": "light"
     },
     "output_type": "display_data"
    }
   ],
   "source": [
    "sns.heatmap(corr_tab, annot=True)"
   ]
  },
  {
   "cell_type": "markdown",
   "metadata": {},
   "source": [
    "Comment on which columns you might need to remove due to high collinearity.\n",
    "\n",
    "\n",
    "NUMBER_SPECIAL_CHARACTERS\n",
    "\n",
    "SOURCE_APP_PACKETS\n",
    "\n",
    "REMOTE_APP_PACKETS\n",
    "\n",
    "SOURCE_APP_BYTES\n",
    "\n",
    "APP_PACKETS"
   ]
  },
  {
   "cell_type": "markdown",
   "metadata": {},
   "source": [
    "# Challenge 2 - Remove Column Collinearity.\n",
    "\n",
    "From the heatmap you created, you should have seen at least 3 columns that can be removed due to high collinearity. Remove these columns from the dataset.\n",
    "\n",
    "Note that you should remove as few columns as you can. You don't have to remove all the columns at once. But instead, try removing one column, then produce the heatmap again to determine if additional columns should be removed. As long as the dataset no longer contains columns that are correlated for over 90%, you can stop. Also, keep in mind when two columns have high collinearity, you only need to remove one of them but not both.\n",
    "\n",
    "In the cells below, remove as few columns as you can to eliminate the high collinearity in the dataset. Make sure to comment on your way so that the instructional team can learn about your thinking process which allows them to give feedback. At the end, print the heatmap again."
   ]
  },
  {
   "cell_type": "code",
   "execution_count": 13,
   "metadata": {},
   "outputs": [],
   "source": [
    "# column TCP_CONVERSATION_EXCHANGE has a high correlation with the columns that I'll drop below.\n",
    "\n",
    "websites.drop('NUMBER_SPECIAL_CHARACTERS', axis=1, inplace = True)"
   ]
  },
  {
   "cell_type": "code",
   "execution_count": 14,
   "metadata": {},
   "outputs": [],
   "source": [
    "websites.drop('SOURCE_APP_PACKETS', axis=1, inplace = True)"
   ]
  },
  {
   "cell_type": "code",
   "execution_count": 15,
   "metadata": {},
   "outputs": [],
   "source": [
    "websites.drop('REMOTE_APP_PACKETS', axis=1, inplace = True)"
   ]
  },
  {
   "cell_type": "code",
   "execution_count": 16,
   "metadata": {},
   "outputs": [],
   "source": [
    "websites.drop('APP_PACKETS', axis=1, inplace = True)"
   ]
  },
  {
   "cell_type": "code",
   "execution_count": 17,
   "metadata": {},
   "outputs": [],
   "source": [
    "# Columns APP_BYTES and REMOTE_APP_BYTES are also higly correlated so Ill drop one of them.\n",
    "\n",
    "websites.drop('REMOTE_APP_BYTES', axis=1, inplace = True)"
   ]
  },
  {
   "cell_type": "code",
   "execution_count": 18,
   "metadata": {},
   "outputs": [],
   "source": [
    "h = websites.corr()"
   ]
  },
  {
   "cell_type": "code",
   "execution_count": 19,
   "metadata": {},
   "outputs": [
    {
     "data": {
      "text/plain": [
       "<matplotlib.axes._subplots.AxesSubplot at 0x1a23b200f0>"
      ]
     },
     "execution_count": 19,
     "metadata": {},
     "output_type": "execute_result"
    },
    {
     "data": {
      "image/png": "[encoded data removed]",
      "text/plain": [
       "<Figure size 432x288 with 2 Axes>"
      ]
     },
     "metadata": {
      "needs_background": "light"
     },
     "output_type": "display_data"
    }
   ],
   "source": [
    "sns.heatmap(h, annot=True)"
   ]
  },
  {
   "cell_type": "markdown",
   "metadata": {},
   "source": [
    "# Challenge 3 - Handle Missing Values\n",
    "\n",
    "The next step would be handling missing values. **We start by examining the number of missing values in each column, which you will do in the next cell.**"
   ]
  },
  {
   "cell_type": "code",
   "execution_count": 20,
   "metadata": {},
   "outputs": [
    {
     "data": {
      "text/plain": [
       "URL                          0\n",
       "URL_LENGTH                   0\n",
       "CHARSET                      0\n",
       "SERVER                       1\n",
       "WHOIS_COUNTRY                0\n",
       "WHOIS_STATEPRO               0\n",
       "WHOIS_REGDATE                0\n",
       "WHOIS_UPDATED_DATE           0\n",
       "TCP_CONVERSATION_EXCHANGE    0\n",
       "DIST_REMOTE_TCP_PORT         0\n",
       "REMOTE_IPS                   0\n",
       "APP_BYTES                    0\n",
       "SOURCE_APP_BYTES             0\n",
       "DNS_QUERY_TIMES              1\n",
       "Type                         0\n",
       "dtype: int64"
      ]
     },
     "execution_count": 20,
     "metadata": {},
     "output_type": "execute_result"
    }
   ],
   "source": [
    "# Your code here\n",
    "websites.isnull().sum()"
   ]
  },
  {
   "cell_type": "markdown",
   "metadata": {},
   "source": [
    "If you remember in the previous labs, we drop a column if the column contains a high proportion of missing values. After dropping those problematic columns, we drop the rows with missing values.\n",
    "\n",
    "#### In the cells below, handle the missing values from the dataset. Remember to comment the rationale of your decisions."
   ]
  },
  {
   "cell_type": "code",
   "execution_count": 21,
   "metadata": {},
   "outputs": [],
   "source": [
    "# Your code here\n",
    "# I already dropped one column above with almost 50% of the data missing so I'll just drop this two rows missing from \n",
    "# SERVER and DNS_QUERY_TIMES"
   ]
  },
  {
   "cell_type": "code",
   "execution_count": 22,
   "metadata": {},
   "outputs": [],
   "source": [
    "websites.dropna(how = 'any', inplace=True)"
   ]
  },
  {
   "cell_type": "markdown",
   "metadata": {},
   "source": [
    "#### Again, examine the number of missing values in each column. \n",
    "\n",
    "If all cleaned, proceed. Otherwise, go back and do more cleaning."
   ]
  },
  {
   "cell_type": "code",
   "execution_count": 23,
   "metadata": {},
   "outputs": [
    {
     "data": {
      "text/plain": [
       "URL                          0\n",
       "URL_LENGTH                   0\n",
       "CHARSET                      0\n",
       "SERVER                       0\n",
       "WHOIS_COUNTRY                0\n",
       "WHOIS_STATEPRO               0\n",
       "WHOIS_REGDATE                0\n",
       "WHOIS_UPDATED_DATE           0\n",
       "TCP_CONVERSATION_EXCHANGE    0\n",
       "DIST_REMOTE_TCP_PORT         0\n",
       "REMOTE_IPS                   0\n",
       "APP_BYTES                    0\n",
       "SOURCE_APP_BYTES             0\n",
       "DNS_QUERY_TIMES              0\n",
       "Type                         0\n",
       "dtype: int64"
      ]
     },
     "execution_count": 23,
     "metadata": {},
     "output_type": "execute_result"
    }
   ],
   "source": [
    "# Examine missing values in each column\n",
    "websites.isnull().sum()"
   ]
  },
  {
   "cell_type": "markdown",
   "metadata": {},
   "source": [
    "# Challenge 4 - Handle `WHOIS_*` Categorical Data"
   ]
  },
  {
   "cell_type": "markdown",
   "metadata": {},
   "source": [
    "There are several categorical columns we need to handle. These columns are:\n",
    "\n",
    "* `URL`\n",
    "* `CHARSET`\n",
    "* `SERVER`\n",
    "* `WHOIS_COUNTRY`\n",
    "* `WHOIS_STATEPRO`\n",
    "* `WHOIS_REGDATE`\n",
    "* `WHOIS_UPDATED_DATE`\n",
    "\n",
    "How to handle string columns is always case by case. Let's start by working on `WHOIS_COUNTRY`. Your steps are:\n",
    "\n",
    "1. List out the unique values of `WHOIS_COUNTRY`.\n",
    "1. Consolidate the country values with consistent country codes. For example, the following values refer to the same country and should use consistent country code:\n",
    "    * `CY` and `Cyprus`\n",
    "    * `US` and `us`\n",
    "    * `SE` and `se`\n",
    "    * `GB`, `United Kingdom`, and `[u'GB'; u'UK']`\n",
    "\n",
    "#### In the cells below, fix the country values as intructed above."
   ]
  },
  {
   "cell_type": "code",
   "execution_count": 24,
   "metadata": {},
   "outputs": [
    {
     "data": {
      "text/plain": [
       "array(['None', 'US', 'SC', 'GB', 'UK', 'RU', 'AU', 'CA', 'PA', 'se', 'IN',\n",
       "       'LU', 'TH', \"[u'GB'; u'UK']\", 'FR', 'NL', 'UG', 'JP', 'CN', 'SE',\n",
       "       'SI', 'IL', 'ru', 'KY', 'AT', 'CZ', 'PH', 'BE', 'NO', 'TR', 'LV',\n",
       "       'DE', 'ES', 'BR', 'us', 'KR', 'HK', 'UA', 'CH', 'United Kingdom',\n",
       "       'BS', 'PK', 'IT', 'Cyprus', 'BY', 'AE', 'IE', 'UY', 'KG'],\n",
       "      dtype=object)"
      ]
     },
     "execution_count": 24,
     "metadata": {},
     "output_type": "execute_result"
    }
   ],
   "source": [
    "websites.WHOIS_COUNTRY.unique()"
   ]
  },
  {
   "cell_type": "code",
   "execution_count": 25,
   "metadata": {},
   "outputs": [
    {
     "data": {
      "text/html": [
       "<div>\n",
       "<style scoped>\n",
       "    .dataframe tbody tr th:only-of-type {\n",
       "        vertical-align: middle;\n",
       "    }\n",
       "\n",
       "    .dataframe tbody tr th {\n",
       "        vertical-align: top;\n",
       "    }\n",
       "\n",
       "    .dataframe thead th {\n",
       "        text-align: right;\n",
       "    }\n",
       "</style>\n",
       "<table border=\"1\" class=\"dataframe\">\n",
       "  <thead>\n",
       "    <tr style=\"text-align: right;\">\n",
       "      <th></th>\n",
       "      <th>URL</th>\n",
       "      <th>URL_LENGTH</th>\n",
       "      <th>CHARSET</th>\n",
       "      <th>SERVER</th>\n",
       "      <th>WHOIS_COUNTRY</th>\n",
       "      <th>WHOIS_STATEPRO</th>\n",
       "      <th>WHOIS_REGDATE</th>\n",
       "      <th>WHOIS_UPDATED_DATE</th>\n",
       "      <th>TCP_CONVERSATION_EXCHANGE</th>\n",
       "      <th>DIST_REMOTE_TCP_PORT</th>\n",
       "      <th>...</th>\n",
       "      <th>SC</th>\n",
       "      <th>SE</th>\n",
       "      <th>SI</th>\n",
       "      <th>TH</th>\n",
       "      <th>TR</th>\n",
       "      <th>UA</th>\n",
       "      <th>UG</th>\n",
       "      <th>UK</th>\n",
       "      <th>US</th>\n",
       "      <th>UY</th>\n",
       "    </tr>\n",
       "  </thead>\n",
       "  <tbody>\n",
       "    <tr>\n",
       "      <th>0</th>\n",
       "      <td>M0_109</td>\n",
       "      <td>16</td>\n",
       "      <td>iso-8859-1</td>\n",
       "      <td>nginx</td>\n",
       "      <td>None</td>\n",
       "      <td>None</td>\n",
       "      <td>10/10/2015 18:21</td>\n",
       "      <td>None</td>\n",
       "      <td>7</td>\n",
       "      <td>0</td>\n",
       "      <td>...</td>\n",
       "      <td>0</td>\n",
       "      <td>0</td>\n",
       "      <td>0</td>\n",
       "      <td>0</td>\n",
       "      <td>0</td>\n",
       "      <td>0</td>\n",
       "      <td>0</td>\n",
       "      <td>0</td>\n",
       "      <td>0</td>\n",
       "      <td>0</td>\n",
       "    </tr>\n",
       "    <tr>\n",
       "      <th>1</th>\n",
       "      <td>B0_2314</td>\n",
       "      <td>16</td>\n",
       "      <td>UTF-8</td>\n",
       "      <td>Apache/2.4.10</td>\n",
       "      <td>None</td>\n",
       "      <td>None</td>\n",
       "      <td>None</td>\n",
       "      <td>None</td>\n",
       "      <td>17</td>\n",
       "      <td>7</td>\n",
       "      <td>...</td>\n",
       "      <td>0</td>\n",
       "      <td>0</td>\n",
       "      <td>0</td>\n",
       "      <td>0</td>\n",
       "      <td>0</td>\n",
       "      <td>0</td>\n",
       "      <td>0</td>\n",
       "      <td>0</td>\n",
       "      <td>0</td>\n",
       "      <td>0</td>\n",
       "    </tr>\n",
       "    <tr>\n",
       "      <th>2</th>\n",
       "      <td>B0_911</td>\n",
       "      <td>16</td>\n",
       "      <td>us-ascii</td>\n",
       "      <td>Microsoft-HTTPAPI/2.0</td>\n",
       "      <td>None</td>\n",
       "      <td>None</td>\n",
       "      <td>None</td>\n",
       "      <td>None</td>\n",
       "      <td>0</td>\n",
       "      <td>0</td>\n",
       "      <td>...</td>\n",
       "      <td>0</td>\n",
       "      <td>0</td>\n",
       "      <td>0</td>\n",
       "      <td>0</td>\n",
       "      <td>0</td>\n",
       "      <td>0</td>\n",
       "      <td>0</td>\n",
       "      <td>0</td>\n",
       "      <td>0</td>\n",
       "      <td>0</td>\n",
       "    </tr>\n",
       "    <tr>\n",
       "      <th>3</th>\n",
       "      <td>B0_113</td>\n",
       "      <td>17</td>\n",
       "      <td>ISO-8859-1</td>\n",
       "      <td>nginx</td>\n",
       "      <td>US</td>\n",
       "      <td>AK</td>\n",
       "      <td>7/10/1997 4:00</td>\n",
       "      <td>12/09/2013 0:45</td>\n",
       "      <td>31</td>\n",
       "      <td>22</td>\n",
       "      <td>...</td>\n",
       "      <td>0</td>\n",
       "      <td>0</td>\n",
       "      <td>0</td>\n",
       "      <td>0</td>\n",
       "      <td>0</td>\n",
       "      <td>0</td>\n",
       "      <td>0</td>\n",
       "      <td>0</td>\n",
       "      <td>1</td>\n",
       "      <td>0</td>\n",
       "    </tr>\n",
       "    <tr>\n",
       "      <th>4</th>\n",
       "      <td>B0_403</td>\n",
       "      <td>17</td>\n",
       "      <td>UTF-8</td>\n",
       "      <td>None</td>\n",
       "      <td>US</td>\n",
       "      <td>TX</td>\n",
       "      <td>12/05/1996 0:00</td>\n",
       "      <td>11/04/2017 0:00</td>\n",
       "      <td>57</td>\n",
       "      <td>2</td>\n",
       "      <td>...</td>\n",
       "      <td>0</td>\n",
       "      <td>0</td>\n",
       "      <td>0</td>\n",
       "      <td>0</td>\n",
       "      <td>0</td>\n",
       "      <td>0</td>\n",
       "      <td>0</td>\n",
       "      <td>0</td>\n",
       "      <td>1</td>\n",
       "      <td>0</td>\n",
       "    </tr>\n",
       "    <tr>\n",
       "      <th>...</th>\n",
       "      <td>...</td>\n",
       "      <td>...</td>\n",
       "      <td>...</td>\n",
       "      <td>...</td>\n",
       "      <td>...</td>\n",
       "      <td>...</td>\n",
       "      <td>...</td>\n",
       "      <td>...</td>\n",
       "      <td>...</td>\n",
       "      <td>...</td>\n",
       "      <td>...</td>\n",
       "      <td>...</td>\n",
       "      <td>...</td>\n",
       "      <td>...</td>\n",
       "      <td>...</td>\n",
       "      <td>...</td>\n",
       "      <td>...</td>\n",
       "      <td>...</td>\n",
       "      <td>...</td>\n",
       "      <td>...</td>\n",
       "      <td>...</td>\n",
       "    </tr>\n",
       "    <tr>\n",
       "      <th>1776</th>\n",
       "      <td>M4_48</td>\n",
       "      <td>194</td>\n",
       "      <td>UTF-8</td>\n",
       "      <td>Apache</td>\n",
       "      <td>ES</td>\n",
       "      <td>Barcelona</td>\n",
       "      <td>17/09/2008 0:00</td>\n",
       "      <td>2/09/2016 0:00</td>\n",
       "      <td>0</td>\n",
       "      <td>0</td>\n",
       "      <td>...</td>\n",
       "      <td>0</td>\n",
       "      <td>0</td>\n",
       "      <td>0</td>\n",
       "      <td>0</td>\n",
       "      <td>0</td>\n",
       "      <td>0</td>\n",
       "      <td>0</td>\n",
       "      <td>0</td>\n",
       "      <td>0</td>\n",
       "      <td>0</td>\n",
       "    </tr>\n",
       "    <tr>\n",
       "      <th>1777</th>\n",
       "      <td>M4_41</td>\n",
       "      <td>198</td>\n",
       "      <td>UTF-8</td>\n",
       "      <td>Apache</td>\n",
       "      <td>ES</td>\n",
       "      <td>Barcelona</td>\n",
       "      <td>17/09/2008 0:00</td>\n",
       "      <td>2/09/2016 0:00</td>\n",
       "      <td>0</td>\n",
       "      <td>0</td>\n",
       "      <td>...</td>\n",
       "      <td>0</td>\n",
       "      <td>0</td>\n",
       "      <td>0</td>\n",
       "      <td>0</td>\n",
       "      <td>0</td>\n",
       "      <td>0</td>\n",
       "      <td>0</td>\n",
       "      <td>0</td>\n",
       "      <td>0</td>\n",
       "      <td>0</td>\n",
       "    </tr>\n",
       "    <tr>\n",
       "      <th>1778</th>\n",
       "      <td>B0_162</td>\n",
       "      <td>201</td>\n",
       "      <td>utf-8</td>\n",
       "      <td>Apache/2.2.16 (Debian)</td>\n",
       "      <td>US</td>\n",
       "      <td>FL</td>\n",
       "      <td>15/02/1999 0:00</td>\n",
       "      <td>15/07/2015 0:00</td>\n",
       "      <td>83</td>\n",
       "      <td>2</td>\n",
       "      <td>...</td>\n",
       "      <td>0</td>\n",
       "      <td>0</td>\n",
       "      <td>0</td>\n",
       "      <td>0</td>\n",
       "      <td>0</td>\n",
       "      <td>0</td>\n",
       "      <td>0</td>\n",
       "      <td>0</td>\n",
       "      <td>1</td>\n",
       "      <td>0</td>\n",
       "    </tr>\n",
       "    <tr>\n",
       "      <th>1779</th>\n",
       "      <td>B0_1152</td>\n",
       "      <td>234</td>\n",
       "      <td>ISO-8859-1</td>\n",
       "      <td>cloudflare-nginx</td>\n",
       "      <td>US</td>\n",
       "      <td>CA</td>\n",
       "      <td>1/04/1998 0:00</td>\n",
       "      <td>9/12/2016 0:00</td>\n",
       "      <td>0</td>\n",
       "      <td>0</td>\n",
       "      <td>...</td>\n",
       "      <td>0</td>\n",
       "      <td>0</td>\n",
       "      <td>0</td>\n",
       "      <td>0</td>\n",
       "      <td>0</td>\n",
       "      <td>0</td>\n",
       "      <td>0</td>\n",
       "      <td>0</td>\n",
       "      <td>1</td>\n",
       "      <td>0</td>\n",
       "    </tr>\n",
       "    <tr>\n",
       "      <th>1780</th>\n",
       "      <td>B0_676</td>\n",
       "      <td>249</td>\n",
       "      <td>utf-8</td>\n",
       "      <td>Microsoft-IIS/8.5</td>\n",
       "      <td>US</td>\n",
       "      <td>Wisconsin</td>\n",
       "      <td>14/11/2008 0:00</td>\n",
       "      <td>20/11/2013 0:00</td>\n",
       "      <td>19</td>\n",
       "      <td>6</td>\n",
       "      <td>...</td>\n",
       "      <td>0</td>\n",
       "      <td>0</td>\n",
       "      <td>0</td>\n",
       "      <td>0</td>\n",
       "      <td>0</td>\n",
       "      <td>0</td>\n",
       "      <td>0</td>\n",
       "      <td>0</td>\n",
       "      <td>1</td>\n",
       "      <td>0</td>\n",
       "    </tr>\n",
       "  </tbody>\n",
       "</table>\n",
       "<p>1779 rows × 58 columns</p>\n",
       "</div>"
      ],
      "text/plain": [
       "          URL  URL_LENGTH     CHARSET                  SERVER WHOIS_COUNTRY  \\\n",
       "0      M0_109          16  iso-8859-1                   nginx          None   \n",
       "1     B0_2314          16       UTF-8           Apache/2.4.10          None   \n",
       "2      B0_911          16    us-ascii   Microsoft-HTTPAPI/2.0          None   \n",
       "3      B0_113          17  ISO-8859-1                   nginx            US   \n",
       "4      B0_403          17       UTF-8                    None            US   \n",
       "...       ...         ...         ...                     ...           ...   \n",
       "1776    M4_48         194       UTF-8                  Apache            ES   \n",
       "1777    M4_41         198       UTF-8                  Apache            ES   \n",
       "1778   B0_162         201       utf-8  Apache/2.2.16 (Debian)            US   \n",
       "1779  B0_1152         234  ISO-8859-1        cloudflare-nginx            US   \n",
       "1780   B0_676         249       utf-8       Microsoft-IIS/8.5            US   \n",
       "\n",
       "     WHOIS_STATEPRO     WHOIS_REGDATE WHOIS_UPDATED_DATE  \\\n",
       "0              None  10/10/2015 18:21               None   \n",
       "1              None              None               None   \n",
       "2              None              None               None   \n",
       "3                AK    7/10/1997 4:00    12/09/2013 0:45   \n",
       "4                TX   12/05/1996 0:00    11/04/2017 0:00   \n",
       "...             ...               ...                ...   \n",
       "1776      Barcelona   17/09/2008 0:00     2/09/2016 0:00   \n",
       "1777      Barcelona   17/09/2008 0:00     2/09/2016 0:00   \n",
       "1778             FL   15/02/1999 0:00    15/07/2015 0:00   \n",
       "1779             CA    1/04/1998 0:00     9/12/2016 0:00   \n",
       "1780      Wisconsin   14/11/2008 0:00    20/11/2013 0:00   \n",
       "\n",
       "      TCP_CONVERSATION_EXCHANGE  DIST_REMOTE_TCP_PORT  ...  SC  SE  SI  TH  \\\n",
       "0                             7                     0  ...   0   0   0   0   \n",
       "1                            17                     7  ...   0   0   0   0   \n",
       "2                             0                     0  ...   0   0   0   0   \n",
       "3                            31                    22  ...   0   0   0   0   \n",
       "4                            57                     2  ...   0   0   0   0   \n",
       "...                         ...                   ...  ...  ..  ..  ..  ..   \n",
       "1776                          0                     0  ...   0   0   0   0   \n",
       "1777                          0                     0  ...   0   0   0   0   \n",
       "1778                         83                     2  ...   0   0   0   0   \n",
       "1779                          0                     0  ...   0   0   0   0   \n",
       "1780                         19                     6  ...   0   0   0   0   \n",
       "\n",
       "      TR  UA  UG  UK  US  UY  \n",
       "0      0   0   0   0   0   0  \n",
       "1      0   0   0   0   0   0  \n",
       "2      0   0   0   0   0   0  \n",
       "3      0   0   0   0   1   0  \n",
       "4      0   0   0   0   1   0  \n",
       "...   ..  ..  ..  ..  ..  ..  \n",
       "1776   0   0   0   0   0   0  \n",
       "1777   0   0   0   0   0   0  \n",
       "1778   0   0   0   0   1   0  \n",
       "1779   0   0   0   0   1   0  \n",
       "1780   0   0   0   0   1   0  \n",
       "\n",
       "[1779 rows x 58 columns]"
      ]
     },
     "execution_count": 25,
     "metadata": {},
     "output_type": "execute_result"
    }
   ],
   "source": [
    "# There are 5 rows with WHOIS_COUNTRY column wrong. I'll rewrite them.\n",
    "websites[websites['WHOIS_COUNTRY'] == \"[u'GB'; u'UK']\"]\n",
    "\n",
    "websites['WHOIS_COUNTRY'] =  websites['WHOIS_COUNTRY'].replace({\"[u'GB'; u'UK']\": 'UK'})\n",
    "# There are 1 row with WHOIS_COUNTRY column wrong. I'll rewrite them.\n",
    "\n",
    "websites[websites['WHOIS_COUNTRY'] == \"United Kingdom\"]\n",
    "\n",
    "websites['WHOIS_COUNTRY'] =  websites['WHOIS_COUNTRY'].replace({\"United Kingdom\": 'UK'})\n",
    "websites[websites['WHOIS_COUNTRY'] == \"United Kingdom\"]\n",
    "\n",
    "websites[websites['WHOIS_COUNTRY'] == \"[u'GB'; u'UK']\"]\n",
    "\n",
    "websites[websites['WHOIS_COUNTRY'] == \"se\"]\n",
    "websites['WHOIS_COUNTRY'] =  websites['WHOIS_COUNTRY'].replace({\"se\": 'SE'})\n",
    "\n",
    "websites[websites['WHOIS_COUNTRY'] == \"ru\"]\n",
    "websites['WHOIS_COUNTRY'] =  websites['WHOIS_COUNTRY'].replace({\"ru\": 'RU'})\n",
    "\n",
    "websites[websites['WHOIS_COUNTRY'] == \"Cyprus\"]\n",
    "websites['WHOIS_COUNTRY'] =  websites['WHOIS_COUNTRY'].replace({\"Cyprus\": 'CY'})\n",
    "\n",
    "websites[websites['WHOIS_COUNTRY'] == \"us\"]\n",
    "websites['WHOIS_COUNTRY'] =  websites['WHOIS_COUNTRY'].replace({\"us\": 'US'})\n",
    "\n",
    "\n",
    "websites.WHOIS_COUNTRY.unique()\n",
    "\n",
    "WHOIS_COUNTRY_NUM = pd.get_dummies(websites.WHOIS_COUNTRY, drop_first=True)\n",
    "websites_dummy = pd.concat([websites, WHOIS_COUNTRY_NUM], axis=1)\n",
    "websites_dummy\n",
    "\n"
   ]
  },
  {
   "cell_type": "code",
   "execution_count": 26,
   "metadata": {},
   "outputs": [
    {
     "data": {
      "text/plain": [
       "array(['None', 'US', 'SC', 'GB', 'UK', 'RU', 'AU', 'CA', 'PA', 'SE', 'IN',\n",
       "       'LU', 'TH', 'FR', 'NL', 'UG', 'JP', 'CN', 'SI', 'IL', 'KY', 'AT',\n",
       "       'CZ', 'PH', 'BE', 'NO', 'TR', 'LV', 'DE', 'ES', 'BR', 'KR', 'HK',\n",
       "       'UA', 'CH', 'BS', 'PK', 'IT', 'CY', 'BY', 'AE', 'IE', 'UY', 'KG'],\n",
       "      dtype=object)"
      ]
     },
     "execution_count": 26,
     "metadata": {},
     "output_type": "execute_result"
    }
   ],
   "source": [
    "websites.WHOIS_COUNTRY.unique()"
   ]
  },
  {
   "cell_type": "markdown",
   "metadata": {},
   "source": [
    "Since we have fixed the country values, can we convert this column to ordinal now?\n",
    "\n",
    "Not yet. If you reflect on the previous labs how we handle categorical columns, you probably remember we ended up dropping a lot of those columns because there are too many unique values. Too many unique values in a column is not desirable in machine learning because it makes prediction inaccurate. But there are workarounds under certain conditions. One of the fixable conditions is:\n",
    "\n",
    "#### If a limited number of values account for the majority of data, we can retain these top values and re-label all other rare values.\n",
    "\n",
    "The `WHOIS_COUNTRY` column happens to be this case. You can verify it by print a bar chart of the `value_counts` in the next cell to verify:"
   ]
  },
  {
   "cell_type": "markdown",
   "metadata": {},
   "source": [
    "#### After verifying, now let's keep the top 10 values of the column and re-label other columns with `OTHER`."
   ]
  },
  {
   "cell_type": "code",
   "execution_count": 27,
   "metadata": {
    "scrolled": true
   },
   "outputs": [],
   "source": [
    "# Your code here\n",
    "country_freq = websites.WHOIS_COUNTRY.value_counts().sort_values(ascending = False)"
   ]
  },
  {
   "cell_type": "code",
   "execution_count": 28,
   "metadata": {},
   "outputs": [],
   "source": [
    "t10c = list(country_freq[:10].index)"
   ]
  },
  {
   "cell_type": "code",
   "execution_count": 29,
   "metadata": {},
   "outputs": [
    {
     "data": {
      "text/plain": [
       "['US', 'None', 'CA', 'ES', 'AU', 'PA', 'GB', 'UK', 'JP', 'CN']"
      ]
     },
     "execution_count": 29,
     "metadata": {},
     "output_type": "execute_result"
    }
   ],
   "source": [
    "t10c"
   ]
  },
  {
   "cell_type": "code",
   "execution_count": 30,
   "metadata": {},
   "outputs": [],
   "source": [
    "# nwebsites = websites.groupby('WHOIS_COUNTRY').count().sort_values('URL', ascending = False).nlargest(10, 'URL')"
   ]
  },
  {
   "cell_type": "code",
   "execution_count": 31,
   "metadata": {},
   "outputs": [
    {
     "data": {
      "text/plain": [
       "'None'"
      ]
     },
     "execution_count": 31,
     "metadata": {},
     "output_type": "execute_result"
    }
   ],
   "source": [
    "websites['WHOIS_COUNTRY'].iloc[2]"
   ]
  },
  {
   "cell_type": "code",
   "execution_count": 32,
   "metadata": {},
   "outputs": [],
   "source": [
    "def top10(country):\n",
    "    if country in t10c:\n",
    "        return country\n",
    "    else:\n",
    "        return 'OTHER'"
   ]
  },
  {
   "cell_type": "code",
   "execution_count": 33,
   "metadata": {},
   "outputs": [],
   "source": [
    "websites['WHOIS_COUNTRY'] = websites['WHOIS_COUNTRY'].apply(top10)"
   ]
  },
  {
   "cell_type": "code",
   "execution_count": 34,
   "metadata": {},
   "outputs": [
    {
     "data": {
      "text/plain": [
       "US       1105\n",
       "None      306\n",
       "OTHER     110\n",
       "CA         83\n",
       "ES         63\n",
       "AU         35\n",
       "PA         21\n",
       "GB         19\n",
       "UK         16\n",
       "JP         11\n",
       "CN         10\n",
       "Name: WHOIS_COUNTRY, dtype: int64"
      ]
     },
     "execution_count": 34,
     "metadata": {},
     "output_type": "execute_result"
    }
   ],
   "source": [
    "websites.WHOIS_COUNTRY.value_counts()"
   ]
  },
  {
   "cell_type": "markdown",
   "metadata": {},
   "source": [
    "Now since `WHOIS_COUNTRY` has been re-labelled, we don't need `WHOIS_STATEPRO` any more because the values of the states or provinces may not be relevant any more. We'll drop this column.\n",
    "\n",
    "In addition, we will also drop `WHOIS_REGDATE` and `WHOIS_UPDATED_DATE`. These are the registration and update dates of the website domains. Not of our concerns.\n",
    "\n",
    "#### In the next cell, drop `['WHOIS_STATEPRO', 'WHOIS_REGDATE', 'WHOIS_UPDATED_DATE']`."
   ]
  },
  {
   "cell_type": "code",
   "execution_count": 35,
   "metadata": {},
   "outputs": [],
   "source": [
    "# Your code here\n",
    "\n",
    "websites.drop(['WHOIS_STATEPRO', 'WHOIS_REGDATE','WHOIS_UPDATED_DATE'] , axis=1, inplace = True)\n"
   ]
  },
  {
   "cell_type": "markdown",
   "metadata": {},
   "source": [
    "# Challenge 5 - Handle Remaining Categorical Data & Convert to Ordinal\n",
    "\n",
    "Now print the `dtypes` of the data again. Besides `WHOIS_COUNTRY` which we already fixed, there should be 3 categorical columns left: `URL`, `CHARSET`, and `SERVER`."
   ]
  },
  {
   "cell_type": "code",
   "execution_count": 36,
   "metadata": {},
   "outputs": [
    {
     "data": {
      "text/plain": [
       "URL                           object\n",
       "URL_LENGTH                     int64\n",
       "CHARSET                       object\n",
       "SERVER                        object\n",
       "WHOIS_COUNTRY                 object\n",
       "TCP_CONVERSATION_EXCHANGE      int64\n",
       "DIST_REMOTE_TCP_PORT           int64\n",
       "REMOTE_IPS                     int64\n",
       "APP_BYTES                      int64\n",
       "SOURCE_APP_BYTES               int64\n",
       "DNS_QUERY_TIMES              float64\n",
       "Type                           int64\n",
       "dtype: object"
      ]
     },
     "execution_count": 36,
     "metadata": {},
     "output_type": "execute_result"
    }
   ],
   "source": [
    "# Your code here\n",
    "websites.dtypes"
   ]
  },
  {
   "cell_type": "markdown",
   "metadata": {},
   "source": [
    "#### `URL` is easy. We'll simply drop it because it has too many unique values that there's no way for us to consolidate."
   ]
  },
  {
   "cell_type": "code",
   "execution_count": 37,
   "metadata": {},
   "outputs": [],
   "source": [
    "# Your code here\n",
    "websites.drop('URL', axis=1, inplace = True)"
   ]
  },
  {
   "cell_type": "markdown",
   "metadata": {},
   "source": [
    "#### Print the unique value counts of `CHARSET`. You see there are only a few unique values. So we can keep it as it is."
   ]
  },
  {
   "cell_type": "code",
   "execution_count": 38,
   "metadata": {},
   "outputs": [
    {
     "data": {
      "text/plain": [
       "UTF-8           674\n",
       "ISO-8859-1      427\n",
       "utf-8           379\n",
       "us-ascii        155\n",
       "iso-8859-1      134\n",
       "None              7\n",
       "windows-1251      1\n",
       "ISO-8859          1\n",
       "windows-1252      1\n",
       "Name: CHARSET, dtype: int64"
      ]
     },
     "execution_count": 38,
     "metadata": {},
     "output_type": "execute_result"
    }
   ],
   "source": [
    "# Your code here\n",
    "websites.CHARSET.value_counts()"
   ]
  },
  {
   "cell_type": "markdown",
   "metadata": {},
   "source": [
    "`SERVER` is a little more complicated. Print its unique values and think about how you can consolidate those values.\n",
    "\n",
    "#### Before you think of your own solution, don't read the instructions that come next."
   ]
  },
  {
   "cell_type": "code",
   "execution_count": 39,
   "metadata": {},
   "outputs": [],
   "source": [
    "# Your code here\n",
    "char = list(websites.CHARSET.unique())"
   ]
  },
  {
   "cell_type": "code",
   "execution_count": 40,
   "metadata": {},
   "outputs": [
    {
     "data": {
      "text/plain": [
       "['iso-8859-1',\n",
       " 'UTF-8',\n",
       " 'us-ascii',\n",
       " 'ISO-8859-1',\n",
       " 'utf-8',\n",
       " 'None',\n",
       " 'windows-1251',\n",
       " 'ISO-8859',\n",
       " 'windows-1252']"
      ]
     },
     "execution_count": 40,
     "metadata": {},
     "output_type": "execute_result"
    }
   ],
   "source": [
    "char"
   ]
  },
  {
   "cell_type": "markdown",
   "metadata": {},
   "source": [
    "![Think Hard](../images/think-hard.jpg)"
   ]
  },
  {
   "cell_type": "code",
   "execution_count": 41,
   "metadata": {},
   "outputs": [],
   "source": [
    "# Your code here:\n",
    "# ISO, UTF, WINDOWS"
   ]
  },
  {
   "cell_type": "code",
   "execution_count": 42,
   "metadata": {},
   "outputs": [],
   "source": [
    "def charset(charset):\n",
    "    x = charset.lower()\n",
    "    if 'iso' in x:\n",
    "        return 'ISO'\n",
    "    elif 'utf' in x:\n",
    "        return 'UTF'\n",
    "    elif 'windows' in x:\n",
    "        return 'WINDOWS'\n",
    "    return 'OTHER'"
   ]
  },
  {
   "cell_type": "code",
   "execution_count": 43,
   "metadata": {},
   "outputs": [],
   "source": [
    "websites['CHARSET'] = websites['CHARSET'].apply(charset)"
   ]
  },
  {
   "cell_type": "code",
   "execution_count": 44,
   "metadata": {},
   "outputs": [
    {
     "data": {
      "text/plain": [
       "array(['ISO', 'UTF', 'OTHER', 'WINDOWS'], dtype=object)"
      ]
     },
     "execution_count": 44,
     "metadata": {},
     "output_type": "execute_result"
    }
   ],
   "source": [
    "websites['CHARSET'].unique()"
   ]
  },
  {
   "cell_type": "markdown",
   "metadata": {},
   "source": [
    "Although there are so many unique values in the `SERVER` column, there are actually only 3 main server types: `Microsoft`, `Apache`, and `nginx`. Just check if each `SERVER` value contains any of those server types and re-label them. For `SERVER` values that don't contain any of those substrings, label with `Other`.\n",
    "\n",
    "At the end, your `SERVER` column should only contain 4 unique values: `Microsoft`, `Apache`, `nginx`, and `Other`."
   ]
  },
  {
   "cell_type": "code",
   "execution_count": 45,
   "metadata": {},
   "outputs": [
    {
     "data": {
      "text/plain": [
       "['nginx',\n",
       " 'Apache/2.4.10',\n",
       " 'Microsoft-HTTPAPI/2.0',\n",
       " 'None',\n",
       " 'Apache/2',\n",
       " 'nginx/1.10.1',\n",
       " 'Apache',\n",
       " 'Apache/2.2.15 (Red Hat)',\n",
       " 'Apache/2.4.23 (Unix) OpenSSL/1.0.1e-fips mod_bwlimited/1.4',\n",
       " 'openresty/1.11.2.1',\n",
       " 'Apache/2.2.22',\n",
       " 'Apache/2.4.7 (Ubuntu)',\n",
       " 'nginx/1.12.0',\n",
       " 'Apache/2.4.12 (Unix) OpenSSL/1.0.1e-fips mod_bwlimited/1.4',\n",
       " 'Oracle-iPlanet-Web-Server/7.0',\n",
       " 'cloudflare-nginx',\n",
       " 'nginx/1.6.2',\n",
       " 'openresty',\n",
       " 'Heptu web server',\n",
       " 'Pepyaka/1.11.3',\n",
       " 'nginx/1.8.0',\n",
       " 'nginx/1.10.1 + Phusion Passenger 5.0.30',\n",
       " 'Apache/2.2.29 (Amazon)',\n",
       " 'Microsoft-IIS/7.5',\n",
       " 'LiteSpeed',\n",
       " 'Apache/2.4.25 (cPanel) OpenSSL/1.0.1e-fips mod_bwlimited/1.4',\n",
       " 'tsa_c',\n",
       " 'Apache/2.2.0 (Fedora)',\n",
       " 'Apache/2.2.22 (Debian)',\n",
       " 'Apache/2.2.15 (CentOS)',\n",
       " 'Apache/2.4.25',\n",
       " 'Apache/2.4.25 (Amazon) PHP/7.0.14',\n",
       " 'GSE',\n",
       " 'Apache/2.4.23 (Unix) OpenSSL/0.9.8e-fips-rhel5 mod_bwlimited/1.4',\n",
       " 'Apache/2.4.25 (Amazon) OpenSSL/1.0.1k-fips',\n",
       " 'Apache/2.2.22 (Ubuntu)',\n",
       " 'Tengine',\n",
       " 'Apache/2.4.18 (Unix) OpenSSL/0.9.8e-fips-rhel5 mod_bwlimited/1.4',\n",
       " 'Apache/2.4.10 (Debian)',\n",
       " 'Apache/2.4.6 (CentOS) PHP/5.6.8',\n",
       " 'Sun-ONE-Web-Server/6.1',\n",
       " 'Apache/2.4.18 (Unix) OpenSSL/1.0.2e Communique/4.1.10',\n",
       " 'AmazonS3',\n",
       " 'Apache/1.3.37 (Unix) mod_perl/1.29 mod_ssl/2.8.28 OpenSSL/0.9.7e-p1',\n",
       " 'ATS',\n",
       " 'Apache/2.2.27 (CentOS)',\n",
       " 'Apache/2.2.29 (Unix) mod_ssl/2.2.29 OpenSSL/1.0.1e-fips DAV/2 mod_bwlimited/1.4',\n",
       " 'CherryPy/3.6.0',\n",
       " 'Server',\n",
       " 'KHL',\n",
       " 'Apache/2.4.6 (CentOS) OpenSSL/1.0.1e-fips mod_fcgid/2.3.9 PHP/5.4.16 mod_jk/1.2.40',\n",
       " 'Apache/2.2.3 (CentOS)',\n",
       " 'Apache/2.4',\n",
       " 'Apache/1.3.27 (Unix)  (Red-Hat/Linux) mod_perl/1.26 PHP/4.3.3 FrontPage/5.0.2 mod_ssl/2.8.12 OpenSSL/0.9.6b',\n",
       " 'mw2114.codfw.wmnet',\n",
       " 'Apache/2.2.31 (Unix) mod_ssl/2.2.31 OpenSSL/1.0.1e-fips mod_bwlimited/1.4 mod_perl/2.0.8 Perl/v5.10.1',\n",
       " 'Apache/1.3.34 (Unix) PHP/4.4.4',\n",
       " 'Apache/2.2.31 (Amazon)',\n",
       " 'Jetty(9.0.z-SNAPSHOT)',\n",
       " 'Apache/2.2.31 (CentOS)',\n",
       " 'Apache/2.4.12 (Ubuntu)',\n",
       " 'HTTPDaemon',\n",
       " 'Apache/2.2.29 (Unix) mod_ssl/2.2.29 OpenSSL/1.0.1e-fips mod_bwlimited/1.4',\n",
       " 'MediaFire',\n",
       " 'DOSarrest',\n",
       " 'mw2232.codfw.wmnet',\n",
       " 'Sucuri/Cloudproxy',\n",
       " 'Apache/2.4.23 (Unix)',\n",
       " 'nginx/0.7.65',\n",
       " 'mw2260.codfw.wmnet',\n",
       " 'Apache/2.2.32',\n",
       " 'mw2239.codfw.wmnet',\n",
       " 'DPS/1.1.8',\n",
       " 'Apache/2.0.52 (Red Hat)',\n",
       " 'Apache/2.2.25 (Unix) mod_ssl/2.2.25 OpenSSL/0.9.8e-fips-rhel5 mod_bwlimited/1.4',\n",
       " 'Apache/1.3.31 (Unix) PHP/4.3.9 mod_perl/1.29 rus/PL30.20',\n",
       " 'Apache/2.2.13 (Unix) mod_ssl/2.2.13 OpenSSL/0.9.8e-fips-rhel5 mod_auth_passthrough/2.1 mod_bwlimited/1.4 PHP/5.2.10',\n",
       " 'nginx/1.1.19',\n",
       " 'ATS/5.3.0',\n",
       " 'Apache/2.2.3 (Red Hat)',\n",
       " 'nginx/1.4.3',\n",
       " 'Apache/2.2.29 (Unix) mod_ssl/2.2.29 OpenSSL/1.0.1e-fips mod_bwlimited/1.4 PHP/5.4.35',\n",
       " 'Apache/2.2.14 (FreeBSD) mod_ssl/2.2.14 OpenSSL/0.9.8y DAV/2 PHP/5.2.12 with Suhosin-Patch',\n",
       " 'Apache/2.2.14 (Unix) mod_ssl/2.2.14 OpenSSL/0.9.8e-fips-rhel5',\n",
       " 'Apache/1.3.39 (Unix) PHP/5.2.5 mod_auth_passthrough/1.8 mod_bwlimited/1.4 mod_log_bytes/1.2 mod_gzip/1.3.26.1a FrontPage/5.0.2.2635 DAV/1.0.3 mod_ssl/2.8.30 OpenSSL/0.9.7a',\n",
       " 'SSWS',\n",
       " 'Microsoft-IIS/8.0',\n",
       " 'Apache/2.4.18 (Ubuntu)',\n",
       " 'Apache/2.4.6 (CentOS) OpenSSL/1.0.1e-fips PHP/5.4.16 mod_apreq2-20090110/2.8.0 mod_perl/2.0.10 Perl/v5.24.1',\n",
       " 'Apache/2.2.20 (Unix)',\n",
       " 'YouTubeFrontEnd',\n",
       " 'nginx/1.11.3',\n",
       " 'nginx/1.11.2',\n",
       " 'nginx/1.10.0 (Ubuntu)',\n",
       " 'nginx/1.8.1',\n",
       " 'nginx/1.11.10',\n",
       " 'Squeegit/1.2.5 (3_sir)',\n",
       " 'Virtuoso/07.20.3217 (Linux) i686-generic-linux-glibc212-64  VDB',\n",
       " 'Apache-Coyote/1.1',\n",
       " 'Yippee-Ki-Yay',\n",
       " 'mw2165.codfw.wmnet',\n",
       " 'mw2192.codfw.wmnet',\n",
       " 'Apache/2.2.23 (Amazon)',\n",
       " 'nginx/1.4.6 (Ubuntu)',\n",
       " 'nginx + Phusion Passenger',\n",
       " 'Proxy Pandeiro UOL',\n",
       " 'mw2231.codfw.wmnet',\n",
       " 'openresty/1.11.2.2',\n",
       " 'mw2109.codfw.wmnet',\n",
       " 'nginx/0.8.54',\n",
       " 'Apache/2.4.6',\n",
       " 'mw2225.codfw.wmnet',\n",
       " 'Apache/1.3.27 (Unix) PHP/4.4.1',\n",
       " 'mw2236.codfw.wmnet',\n",
       " 'mw2101.codfw.wmnet',\n",
       " 'Varnish',\n",
       " 'Resin/3.1.8',\n",
       " 'mw2164.codfw.wmnet',\n",
       " 'Microsoft-IIS/8.5',\n",
       " 'mw2242.codfw.wmnet',\n",
       " 'Apache/2.4.6 (CentOS) OpenSSL/1.0.1e-fips PHP/5.5.38',\n",
       " 'mw2175.codfw.wmnet',\n",
       " 'mw2107.codfw.wmnet',\n",
       " 'mw2190.codfw.wmnet',\n",
       " 'Apache/2.4.6 (CentOS)',\n",
       " 'nginx/1.13.0',\n",
       " 'barista/5.1.3',\n",
       " 'mw2103.codfw.wmnet',\n",
       " 'Apache/2.4.25 (Debian)',\n",
       " 'ECD (fll/0790)',\n",
       " 'Pagely Gateway/1.5.1',\n",
       " 'nginx/1.10.3',\n",
       " 'Apache/2.4.25 (FreeBSD) OpenSSL/1.0.1s-freebsd PHP/5.6.30',\n",
       " 'mw2097.codfw.wmnet',\n",
       " 'mw2233.codfw.wmnet',\n",
       " 'fbs',\n",
       " 'mw2199.codfw.wmnet',\n",
       " 'mw2255.codfw.wmnet',\n",
       " 'mw2228.codfw.wmnet',\n",
       " 'Apache/2.2.31 (Unix) mod_ssl/2.2.31 OpenSSL/1.0.1e-fips mod_bwlimited/1.4 mod_fcgid/2.3.9',\n",
       " 'gunicorn/19.7.1',\n",
       " 'Apache/2.2.31 (Unix) mod_ssl/2.2.31 OpenSSL/0.9.8e-fips-rhel5 mod_bwlimited/1.4',\n",
       " 'Apache/2.4.6 (CentOS) OpenSSL/1.0.1e-fips PHP/5.4.16',\n",
       " 'mw2241.codfw.wmnet',\n",
       " 'Apache/1.3.33 (Unix) mod_ssl/2.8.24 OpenSSL/0.9.7e-p1 PHP/4.4.8',\n",
       " 'lighttpd',\n",
       " 'mw2230.codfw.wmnet',\n",
       " 'Apache/2.4.6 (CentOS) OpenSSL/1.0.1e-fips',\n",
       " 'AkamaiGHost',\n",
       " 'mw2240.codfw.wmnet',\n",
       " 'nginx/1.10.2',\n",
       " 'PWS/8.2.0.7',\n",
       " 'nginx/1.2.1',\n",
       " 'nxfps',\n",
       " 'Apache/2.2.16 (Unix) mod_ssl/2.2.16 OpenSSL/0.9.8e-fips-rhel5 mod_auth_passthrough/2.1 mod_bwlimited/1.4',\n",
       " 'Play',\n",
       " 'mw2185.codfw.wmnet',\n",
       " 'Apache/2.4.10 (Unix) OpenSSL/1.0.1k',\n",
       " 'Apache/Not telling (Unix) AuthTDS/1.1',\n",
       " 'Apache/2.2.11 (Unix) PHP/5.2.6',\n",
       " 'Scratch Web Server',\n",
       " 'marrakesh 1.12.2',\n",
       " 'nginx/0.8.35',\n",
       " 'mw2182.codfw.wmnet',\n",
       " 'squid/3.3.8',\n",
       " 'nginx/1.10.0',\n",
       " 'Nginx (OpenBSD)',\n",
       " 'Zope/(2.13.16; python 2.6.8; linux2) ZServer/1.1',\n",
       " 'Apache/2.2.26 (Unix) mod_ssl/2.2.26 OpenSSL/0.9.8e-fips-rhel5 mod_bwlimited/1.4 PHP/5.4.26',\n",
       " 'Apache/2.2.21 (Unix) mod_ssl/2.2.21 OpenSSL/0.9.8e-fips-rhel5 PHP/5.3.10',\n",
       " 'Apache/2.2.27 (Unix) OpenAM Web Agent/4.0.1-1 mod_ssl/2.2.27 OpenSSL/1.0.1p PHP/5.3.28',\n",
       " 'mw2104.codfw.wmnet',\n",
       " '.V01 Apache',\n",
       " 'mw2110.codfw.wmnet',\n",
       " 'Apache/2.4.6 (Unix) mod_jk/1.2.37 PHP/5.5.1 OpenSSL/1.0.1g mod_fcgid/2.3.9',\n",
       " 'mw2176.codfw.wmnet',\n",
       " 'mw2187.codfw.wmnet',\n",
       " 'mw2106.codfw.wmnet',\n",
       " 'Microsoft-IIS/7.0',\n",
       " 'Apache/1.3.42 Ben-SSL/1.60 (Unix) mod_gzip/1.3.26.1a mod_fastcgi/2.4.6 mod_throttle/3.1.2 Chili!Soft-ASP/3.6.2 FrontPage/5.0.2.2635 mod_perl/1.31 PHP/4.4.9',\n",
       " 'Aeria Games & Entertainment',\n",
       " 'nginx/1.6.3 + Phusion Passenger',\n",
       " 'Apache/2.4.10 (Debian) PHP/5.6.30-0+deb8u1 mod_perl/2.0.9dev Perl/v5.20.2',\n",
       " 'mw2173.codfw.wmnet',\n",
       " 'Apache/2.4.6 (Red Hat Enterprise Linux) OpenSSL/1.0.1e-fips mod_fcgid/2.3.9 Communique/4.2.0',\n",
       " 'Apache/2.2.15 (CentOS) DAV/2 mod_ssl/2.2.15 OpenSSL/1.0.1e-fips PHP/5.3.3',\n",
       " 'Apache/2.4.6 (CentOS) OpenSSL/1.0.1e-fips PHP/7.0.14',\n",
       " 'mw2198.codfw.wmnet',\n",
       " 'mw2172.codfw.wmnet',\n",
       " 'nginx/1.2.6',\n",
       " 'Apache/2.4.6 (Unix) mod_jk/1.2.37',\n",
       " 'Apache/2.4.25 (Unix) OpenSSL/1.0.1e-fips mod_bwlimited/1.4',\n",
       " 'nginx/1.4.4',\n",
       " 'Cowboy',\n",
       " 'mw2113.codfw.wmnet',\n",
       " 'Apache/2.2.14 (Unix) mod_ssl/2.2.14 OpenSSL/0.9.8a',\n",
       " 'Apache/2.4.10 (Ubuntu)',\n",
       " 'mw2224.codfw.wmnet',\n",
       " 'mw2171.codfw.wmnet',\n",
       " 'mw2257.codfw.wmnet',\n",
       " 'mw2226.codfw.wmnet',\n",
       " 'DMS/1.0.42',\n",
       " 'nginx/1.6.3',\n",
       " 'Application-Server',\n",
       " 'Apache/2.4.6 (CentOS) mod_fcgid/2.3.9 PHP/5.6.30',\n",
       " 'mw2177.codfw.wmnet',\n",
       " 'lighttpd/1.4.28',\n",
       " 'mw2197.codfw.wmnet',\n",
       " 'Apache/2.2.31 (FreeBSD) PHP/5.4.15 mod_ssl/2.2.31 OpenSSL/1.0.2d DAV/2',\n",
       " 'Apache/2.2.26 (Unix) mod_ssl/2.2.26 OpenSSL/1.0.1e-fips DAV/2 mod_bwlimited/1.4',\n",
       " 'Apache/2.2.24 (Unix) DAV/2 PHP/5.3.26 mod_ssl/2.2.24 OpenSSL/0.9.8y',\n",
       " 'mw2178.codfw.wmnet',\n",
       " '294',\n",
       " 'Microsoft-IIS/6.0',\n",
       " 'nginx/1.7.4',\n",
       " 'Apache/2.2.22 (Debian) mod_python/3.3.1 Python/2.7.3 mod_ssl/2.2.22 OpenSSL/1.0.1t',\n",
       " 'Apache/2.4.16 (Ubuntu)',\n",
       " 'www.lexisnexis.com  9999',\n",
       " 'nginx/0.8.38',\n",
       " 'mw2238.codfw.wmnet',\n",
       " 'Pizza/pepperoni',\n",
       " 'XXXXXXXXXXXXXXXXXXXXXX',\n",
       " 'MI',\n",
       " 'Roxen/5.4.98-r2',\n",
       " 'Apache/2.2.31 (Unix) mod_ssl/2.2.31 OpenSSL/1.0.1e-fips mod_bwlimited/1.4',\n",
       " 'nginx/1.9.13',\n",
       " 'mw2180.codfw.wmnet',\n",
       " 'Apache/2.2.14 (Ubuntu)',\n",
       " 'ebay server',\n",
       " 'nginx/0.8.55',\n",
       " 'Apache/2.2.10 (Linux/SUSE)',\n",
       " 'nginx/1.7.12',\n",
       " 'Apache/2.0.63 (Unix) mod_ssl/2.0.63 OpenSSL/0.9.8e-fips-rhel5 mod_auth_passthrough/2.1 mod_bwlimited/1.4 PHP/5.3.6',\n",
       " 'Boston.com Frontend',\n",
       " 'My Arse',\n",
       " 'IdeaWebServer/v0.80',\n",
       " 'Apache/2.4.17 (Unix) OpenSSL/1.0.1e-fips PHP/5.6.19',\n",
       " 'Microsoft-IIS/7.5; litigation_essentials.lexisnexis.com  9999',\n",
       " 'Apache/2.2.16 (Debian)']"
      ]
     },
     "execution_count": 45,
     "metadata": {},
     "output_type": "execute_result"
    }
   ],
   "source": [
    "# Your code here\n",
    "ser = list(websites.SERVER.unique())\n",
    "ser"
   ]
  },
  {
   "cell_type": "code",
   "execution_count": 46,
   "metadata": {},
   "outputs": [],
   "source": [
    "def server(row):\n",
    "    x = row.lower()\n",
    "    if 'apache' in x:\n",
    "        return 'APACHE'\n",
    "    elif 'nginx' in x:\n",
    "        return 'NGINX'\n",
    "    elif 'microsoft' in x:\n",
    "        return 'MICROSOFT'\n",
    "    return 'OTHER'"
   ]
  },
  {
   "cell_type": "code",
   "execution_count": 47,
   "metadata": {
    "scrolled": false
   },
   "outputs": [],
   "source": [
    "websites['SERVER'] = websites['SERVER'].apply(server)"
   ]
  },
  {
   "cell_type": "code",
   "execution_count": 48,
   "metadata": {},
   "outputs": [
    {
     "data": {
      "text/plain": [
       "array(['NGINX', 'APACHE', 'MICROSOFT', 'OTHER'], dtype=object)"
      ]
     },
     "execution_count": 48,
     "metadata": {},
     "output_type": "execute_result"
    }
   ],
   "source": [
    "# Count 'SERVER' value counts here\n",
    "websites['SERVER'].unique()"
   ]
  },
  {
   "cell_type": "markdown",
   "metadata": {},
   "source": [
    "OK, all our categorical data are fixed now. **Let's convert them to ordinal data using Pandas' `get_dummies` function ([documentation](https://pandas.pydata.org/pandas-docs/stable/generated/pandas.get_dummies.html)).** Make sure you drop the categorical columns by passing `drop_first=True` to `get_dummies` as we don't need them any more. **Also, assign the data with dummy values to a new variable `website_dummy`.**"
   ]
  },
  {
   "cell_type": "code",
   "execution_count": 49,
   "metadata": {},
   "outputs": [],
   "source": [
    "# Your code here\n",
    "website_dummy = pd.get_dummies(websites, prefix=['CHARSET', 'SERVER', 'WHOIS_COUNTRY'], drop_first = True)"
   ]
  },
  {
   "cell_type": "code",
   "execution_count": 50,
   "metadata": {},
   "outputs": [
    {
     "data": {
      "text/html": [
       "<div>\n",
       "<style scoped>\n",
       "    .dataframe tbody tr th:only-of-type {\n",
       "        vertical-align: middle;\n",
       "    }\n",
       "\n",
       "    .dataframe tbody tr th {\n",
       "        vertical-align: top;\n",
       "    }\n",
       "\n",
       "    .dataframe thead th {\n",
       "        text-align: right;\n",
       "    }\n",
       "</style>\n",
       "<table border=\"1\" class=\"dataframe\">\n",
       "  <thead>\n",
       "    <tr style=\"text-align: right;\">\n",
       "      <th></th>\n",
       "      <th>URL_LENGTH</th>\n",
       "      <th>TCP_CONVERSATION_EXCHANGE</th>\n",
       "      <th>DIST_REMOTE_TCP_PORT</th>\n",
       "      <th>REMOTE_IPS</th>\n",
       "      <th>APP_BYTES</th>\n",
       "      <th>SOURCE_APP_BYTES</th>\n",
       "      <th>DNS_QUERY_TIMES</th>\n",
       "      <th>Type</th>\n",
       "      <th>CHARSET_OTHER</th>\n",
       "      <th>CHARSET_UTF</th>\n",
       "      <th>...</th>\n",
       "      <th>WHOIS_COUNTRY_CA</th>\n",
       "      <th>WHOIS_COUNTRY_CN</th>\n",
       "      <th>WHOIS_COUNTRY_ES</th>\n",
       "      <th>WHOIS_COUNTRY_GB</th>\n",
       "      <th>WHOIS_COUNTRY_JP</th>\n",
       "      <th>WHOIS_COUNTRY_None</th>\n",
       "      <th>WHOIS_COUNTRY_OTHER</th>\n",
       "      <th>WHOIS_COUNTRY_PA</th>\n",
       "      <th>WHOIS_COUNTRY_UK</th>\n",
       "      <th>WHOIS_COUNTRY_US</th>\n",
       "    </tr>\n",
       "  </thead>\n",
       "  <tbody>\n",
       "    <tr>\n",
       "      <th>0</th>\n",
       "      <td>16</td>\n",
       "      <td>7</td>\n",
       "      <td>0</td>\n",
       "      <td>2</td>\n",
       "      <td>700</td>\n",
       "      <td>1153</td>\n",
       "      <td>2.0</td>\n",
       "      <td>1</td>\n",
       "      <td>0</td>\n",
       "      <td>0</td>\n",
       "      <td>...</td>\n",
       "      <td>0</td>\n",
       "      <td>0</td>\n",
       "      <td>0</td>\n",
       "      <td>0</td>\n",
       "      <td>0</td>\n",
       "      <td>1</td>\n",
       "      <td>0</td>\n",
       "      <td>0</td>\n",
       "      <td>0</td>\n",
       "      <td>0</td>\n",
       "    </tr>\n",
       "    <tr>\n",
       "      <th>1</th>\n",
       "      <td>16</td>\n",
       "      <td>17</td>\n",
       "      <td>7</td>\n",
       "      <td>4</td>\n",
       "      <td>1230</td>\n",
       "      <td>1265</td>\n",
       "      <td>0.0</td>\n",
       "      <td>0</td>\n",
       "      <td>0</td>\n",
       "      <td>1</td>\n",
       "      <td>...</td>\n",
       "      <td>0</td>\n",
       "      <td>0</td>\n",
       "      <td>0</td>\n",
       "      <td>0</td>\n",
       "      <td>0</td>\n",
       "      <td>1</td>\n",
       "      <td>0</td>\n",
       "      <td>0</td>\n",
       "      <td>0</td>\n",
       "      <td>0</td>\n",
       "    </tr>\n",
       "    <tr>\n",
       "      <th>2</th>\n",
       "      <td>16</td>\n",
       "      <td>0</td>\n",
       "      <td>0</td>\n",
       "      <td>0</td>\n",
       "      <td>0</td>\n",
       "      <td>0</td>\n",
       "      <td>0.0</td>\n",
       "      <td>0</td>\n",
       "      <td>1</td>\n",
       "      <td>0</td>\n",
       "      <td>...</td>\n",
       "      <td>0</td>\n",
       "      <td>0</td>\n",
       "      <td>0</td>\n",
       "      <td>0</td>\n",
       "      <td>0</td>\n",
       "      <td>1</td>\n",
       "      <td>0</td>\n",
       "      <td>0</td>\n",
       "      <td>0</td>\n",
       "      <td>0</td>\n",
       "    </tr>\n",
       "    <tr>\n",
       "      <th>3</th>\n",
       "      <td>17</td>\n",
       "      <td>31</td>\n",
       "      <td>22</td>\n",
       "      <td>3</td>\n",
       "      <td>3812</td>\n",
       "      <td>18784</td>\n",
       "      <td>8.0</td>\n",
       "      <td>0</td>\n",
       "      <td>0</td>\n",
       "      <td>0</td>\n",
       "      <td>...</td>\n",
       "      <td>0</td>\n",
       "      <td>0</td>\n",
       "      <td>0</td>\n",
       "      <td>0</td>\n",
       "      <td>0</td>\n",
       "      <td>0</td>\n",
       "      <td>0</td>\n",
       "      <td>0</td>\n",
       "      <td>0</td>\n",
       "      <td>1</td>\n",
       "    </tr>\n",
       "    <tr>\n",
       "      <th>4</th>\n",
       "      <td>17</td>\n",
       "      <td>57</td>\n",
       "      <td>2</td>\n",
       "      <td>5</td>\n",
       "      <td>4278</td>\n",
       "      <td>129889</td>\n",
       "      <td>4.0</td>\n",
       "      <td>0</td>\n",
       "      <td>0</td>\n",
       "      <td>1</td>\n",
       "      <td>...</td>\n",
       "      <td>0</td>\n",
       "      <td>0</td>\n",
       "      <td>0</td>\n",
       "      <td>0</td>\n",
       "      <td>0</td>\n",
       "      <td>0</td>\n",
       "      <td>0</td>\n",
       "      <td>0</td>\n",
       "      <td>0</td>\n",
       "      <td>1</td>\n",
       "    </tr>\n",
       "    <tr>\n",
       "      <th>...</th>\n",
       "      <td>...</td>\n",
       "      <td>...</td>\n",
       "      <td>...</td>\n",
       "      <td>...</td>\n",
       "      <td>...</td>\n",
       "      <td>...</td>\n",
       "      <td>...</td>\n",
       "      <td>...</td>\n",
       "      <td>...</td>\n",
       "      <td>...</td>\n",
       "      <td>...</td>\n",
       "      <td>...</td>\n",
       "      <td>...</td>\n",
       "      <td>...</td>\n",
       "      <td>...</td>\n",
       "      <td>...</td>\n",
       "      <td>...</td>\n",
       "      <td>...</td>\n",
       "      <td>...</td>\n",
       "      <td>...</td>\n",
       "      <td>...</td>\n",
       "    </tr>\n",
       "    <tr>\n",
       "      <th>1776</th>\n",
       "      <td>194</td>\n",
       "      <td>0</td>\n",
       "      <td>0</td>\n",
       "      <td>0</td>\n",
       "      <td>0</td>\n",
       "      <td>186</td>\n",
       "      <td>0.0</td>\n",
       "      <td>1</td>\n",
       "      <td>0</td>\n",
       "      <td>1</td>\n",
       "      <td>...</td>\n",
       "      <td>0</td>\n",
       "      <td>0</td>\n",
       "      <td>1</td>\n",
       "      <td>0</td>\n",
       "      <td>0</td>\n",
       "      <td>0</td>\n",
       "      <td>0</td>\n",
       "      <td>0</td>\n",
       "      <td>0</td>\n",
       "      <td>0</td>\n",
       "    </tr>\n",
       "    <tr>\n",
       "      <th>1777</th>\n",
       "      <td>198</td>\n",
       "      <td>0</td>\n",
       "      <td>0</td>\n",
       "      <td>0</td>\n",
       "      <td>0</td>\n",
       "      <td>124</td>\n",
       "      <td>0.0</td>\n",
       "      <td>1</td>\n",
       "      <td>0</td>\n",
       "      <td>1</td>\n",
       "      <td>...</td>\n",
       "      <td>0</td>\n",
       "      <td>0</td>\n",
       "      <td>1</td>\n",
       "      <td>0</td>\n",
       "      <td>0</td>\n",
       "      <td>0</td>\n",
       "      <td>0</td>\n",
       "      <td>0</td>\n",
       "      <td>0</td>\n",
       "      <td>0</td>\n",
       "    </tr>\n",
       "    <tr>\n",
       "      <th>1778</th>\n",
       "      <td>201</td>\n",
       "      <td>83</td>\n",
       "      <td>2</td>\n",
       "      <td>6</td>\n",
       "      <td>6631</td>\n",
       "      <td>132181</td>\n",
       "      <td>4.0</td>\n",
       "      <td>0</td>\n",
       "      <td>0</td>\n",
       "      <td>1</td>\n",
       "      <td>...</td>\n",
       "      <td>0</td>\n",
       "      <td>0</td>\n",
       "      <td>0</td>\n",
       "      <td>0</td>\n",
       "      <td>0</td>\n",
       "      <td>0</td>\n",
       "      <td>0</td>\n",
       "      <td>0</td>\n",
       "      <td>0</td>\n",
       "      <td>1</td>\n",
       "    </tr>\n",
       "    <tr>\n",
       "      <th>1779</th>\n",
       "      <td>234</td>\n",
       "      <td>0</td>\n",
       "      <td>0</td>\n",
       "      <td>0</td>\n",
       "      <td>0</td>\n",
       "      <td>0</td>\n",
       "      <td>0.0</td>\n",
       "      <td>0</td>\n",
       "      <td>0</td>\n",
       "      <td>0</td>\n",
       "      <td>...</td>\n",
       "      <td>0</td>\n",
       "      <td>0</td>\n",
       "      <td>0</td>\n",
       "      <td>0</td>\n",
       "      <td>0</td>\n",
       "      <td>0</td>\n",
       "      <td>0</td>\n",
       "      <td>0</td>\n",
       "      <td>0</td>\n",
       "      <td>1</td>\n",
       "    </tr>\n",
       "    <tr>\n",
       "      <th>1780</th>\n",
       "      <td>249</td>\n",
       "      <td>19</td>\n",
       "      <td>6</td>\n",
       "      <td>11</td>\n",
       "      <td>2314</td>\n",
       "      <td>3039</td>\n",
       "      <td>6.0</td>\n",
       "      <td>0</td>\n",
       "      <td>0</td>\n",
       "      <td>1</td>\n",
       "      <td>...</td>\n",
       "      <td>0</td>\n",
       "      <td>0</td>\n",
       "      <td>0</td>\n",
       "      <td>0</td>\n",
       "      <td>0</td>\n",
       "      <td>0</td>\n",
       "      <td>0</td>\n",
       "      <td>0</td>\n",
       "      <td>0</td>\n",
       "      <td>1</td>\n",
       "    </tr>\n",
       "  </tbody>\n",
       "</table>\n",
       "<p>1779 rows × 24 columns</p>\n",
       "</div>"
      ],
      "text/plain": [
       "      URL_LENGTH  TCP_CONVERSATION_EXCHANGE  DIST_REMOTE_TCP_PORT  REMOTE_IPS  \\\n",
       "0             16                          7                     0           2   \n",
       "1             16                         17                     7           4   \n",
       "2             16                          0                     0           0   \n",
       "3             17                         31                    22           3   \n",
       "4             17                         57                     2           5   \n",
       "...          ...                        ...                   ...         ...   \n",
       "1776         194                          0                     0           0   \n",
       "1777         198                          0                     0           0   \n",
       "1778         201                         83                     2           6   \n",
       "1779         234                          0                     0           0   \n",
       "1780         249                         19                     6          11   \n",
       "\n",
       "      APP_BYTES  SOURCE_APP_BYTES  DNS_QUERY_TIMES  Type  CHARSET_OTHER  \\\n",
       "0           700              1153              2.0     1              0   \n",
       "1          1230              1265              0.0     0              0   \n",
       "2             0                 0              0.0     0              1   \n",
       "3          3812             18784              8.0     0              0   \n",
       "4          4278            129889              4.0     0              0   \n",
       "...         ...               ...              ...   ...            ...   \n",
       "1776          0               186              0.0     1              0   \n",
       "1777          0               124              0.0     1              0   \n",
       "1778       6631            132181              4.0     0              0   \n",
       "1779          0                 0              0.0     0              0   \n",
       "1780       2314              3039              6.0     0              0   \n",
       "\n",
       "      CHARSET_UTF  ...  WHOIS_COUNTRY_CA  WHOIS_COUNTRY_CN  WHOIS_COUNTRY_ES  \\\n",
       "0               0  ...                 0                 0                 0   \n",
       "1               1  ...                 0                 0                 0   \n",
       "2               0  ...                 0                 0                 0   \n",
       "3               0  ...                 0                 0                 0   \n",
       "4               1  ...                 0                 0                 0   \n",
       "...           ...  ...               ...               ...               ...   \n",
       "1776            1  ...                 0                 0                 1   \n",
       "1777            1  ...                 0                 0                 1   \n",
       "1778            1  ...                 0                 0                 0   \n",
       "1779            0  ...                 0                 0                 0   \n",
       "1780            1  ...                 0                 0                 0   \n",
       "\n",
       "      WHOIS_COUNTRY_GB  WHOIS_COUNTRY_JP  WHOIS_COUNTRY_None  \\\n",
       "0                    0                 0                   1   \n",
       "1                    0                 0                   1   \n",
       "2                    0                 0                   1   \n",
       "3                    0                 0                   0   \n",
       "4                    0                 0                   0   \n",
       "...                ...               ...                 ...   \n",
       "1776                 0                 0                   0   \n",
       "1777                 0                 0                   0   \n",
       "1778                 0                 0                   0   \n",
       "1779                 0                 0                   0   \n",
       "1780                 0                 0                   0   \n",
       "\n",
       "      WHOIS_COUNTRY_OTHER  WHOIS_COUNTRY_PA  WHOIS_COUNTRY_UK  \\\n",
       "0                       0                 0                 0   \n",
       "1                       0                 0                 0   \n",
       "2                       0                 0                 0   \n",
       "3                       0                 0                 0   \n",
       "4                       0                 0                 0   \n",
       "...                   ...               ...               ...   \n",
       "1776                    0                 0                 0   \n",
       "1777                    0                 0                 0   \n",
       "1778                    0                 0                 0   \n",
       "1779                    0                 0                 0   \n",
       "1780                    0                 0                 0   \n",
       "\n",
       "      WHOIS_COUNTRY_US  \n",
       "0                    0  \n",
       "1                    0  \n",
       "2                    0  \n",
       "3                    1  \n",
       "4                    1  \n",
       "...                ...  \n",
       "1776                 0  \n",
       "1777                 0  \n",
       "1778                 1  \n",
       "1779                 1  \n",
       "1780                 1  \n",
       "\n",
       "[1779 rows x 24 columns]"
      ]
     },
     "execution_count": 50,
     "metadata": {},
     "output_type": "execute_result"
    }
   ],
   "source": [
    "website_dummy"
   ]
  },
  {
   "cell_type": "markdown",
   "metadata": {},
   "source": [
    "Now, inspect `website_dummy` to make sure the data and types are intended - there shouldn't be any categorical columns at this point."
   ]
  },
  {
   "cell_type": "code",
   "execution_count": 51,
   "metadata": {},
   "outputs": [
    {
     "data": {
      "text/plain": [
       "URL_LENGTH                     int64\n",
       "TCP_CONVERSATION_EXCHANGE      int64\n",
       "DIST_REMOTE_TCP_PORT           int64\n",
       "REMOTE_IPS                     int64\n",
       "APP_BYTES                      int64\n",
       "SOURCE_APP_BYTES               int64\n",
       "DNS_QUERY_TIMES              float64\n",
       "Type                           int64\n",
       "CHARSET_OTHER                  uint8\n",
       "CHARSET_UTF                    uint8\n",
       "CHARSET_WINDOWS                uint8\n",
       "SERVER_MICROSOFT               uint8\n",
       "SERVER_NGINX                   uint8\n",
       "SERVER_OTHER                   uint8\n",
       "WHOIS_COUNTRY_CA               uint8\n",
       "WHOIS_COUNTRY_CN               uint8\n",
       "WHOIS_COUNTRY_ES               uint8\n",
       "WHOIS_COUNTRY_GB               uint8\n",
       "WHOIS_COUNTRY_JP               uint8\n",
       "WHOIS_COUNTRY_None             uint8\n",
       "WHOIS_COUNTRY_OTHER            uint8\n",
       "WHOIS_COUNTRY_PA               uint8\n",
       "WHOIS_COUNTRY_UK               uint8\n",
       "WHOIS_COUNTRY_US               uint8\n",
       "dtype: object"
      ]
     },
     "execution_count": 51,
     "metadata": {},
     "output_type": "execute_result"
    }
   ],
   "source": [
    "# Your code here\n",
    "website_dummy.dtypes"
   ]
  },
  {
   "cell_type": "code",
   "execution_count": 52,
   "metadata": {},
   "outputs": [
    {
     "data": {
      "text/plain": [
       "Index(['URL_LENGTH', 'TCP_CONVERSATION_EXCHANGE', 'DIST_REMOTE_TCP_PORT',\n",
       "       'REMOTE_IPS', 'APP_BYTES', 'SOURCE_APP_BYTES', 'DNS_QUERY_TIMES',\n",
       "       'Type', 'CHARSET_OTHER', 'CHARSET_UTF', 'CHARSET_WINDOWS',\n",
       "       'SERVER_MICROSOFT', 'SERVER_NGINX', 'SERVER_OTHER', 'WHOIS_COUNTRY_CA',\n",
       "       'WHOIS_COUNTRY_CN', 'WHOIS_COUNTRY_ES', 'WHOIS_COUNTRY_GB',\n",
       "       'WHOIS_COUNTRY_JP', 'WHOIS_COUNTRY_None', 'WHOIS_COUNTRY_OTHER',\n",
       "       'WHOIS_COUNTRY_PA', 'WHOIS_COUNTRY_UK', 'WHOIS_COUNTRY_US'],\n",
       "      dtype='object')"
      ]
     },
     "execution_count": 52,
     "metadata": {},
     "output_type": "execute_result"
    }
   ],
   "source": [
    "website_dummy.columns"
   ]
  },
  {
   "cell_type": "markdown",
   "metadata": {},
   "source": [
    "# Challenge 6 - Modeling, Prediction, and Evaluation\n",
    "\n",
    "We'll start off this section by splitting the data to train and test. **Name your 4 variables `X_train`, `X_test`, `y_train`, and `y_test`. Select 80% of the data for training and 20% for testing.**"
   ]
  },
  {
   "cell_type": "code",
   "execution_count": 69,
   "metadata": {},
   "outputs": [],
   "source": [
    "# dividimos los dato en dos. Uno para el data set sin la respuesta y otro para la columna donde \n",
    "# está la respuesta que queremos que el modelo aprenda a predecir.\n",
    "from sklearn.model_selection import train_test_split\n",
    "\n",
    "y = website_dummy['Type']"
   ]
  },
  {
   "cell_type": "code",
   "execution_count": 70,
   "metadata": {},
   "outputs": [],
   "source": [
    "X = website_dummy.drop(['Type'], axis=1)"
   ]
  },
  {
   "cell_type": "code",
   "execution_count": 84,
   "metadata": {},
   "outputs": [],
   "source": [
    "# Your code here:\n",
    "# Dividimos X e y en test y train. Test(80% de los datos), train(20%)\n",
    "X_train, X_test, y_train, y_test = train_test_split(X, y, test_size=0.2)"
   ]
  },
  {
   "cell_type": "markdown",
   "metadata": {},
   "source": [
    "#### In this lab, we will try two different models and compare our results.\n",
    "\n",
    "The first model we will use in this lab is logistic regression. We have previously learned about logistic regression as a classification algorithm. In the cell below, load `LogisticRegression` from scikit-learn and initialize the model."
   ]
  },
  {
   "cell_type": "code",
   "execution_count": 75,
   "metadata": {},
   "outputs": [],
   "source": [
    "# Your code here:\n",
    "\n",
    "from sklearn.linear_model import LogisticRegression"
   ]
  },
  {
   "cell_type": "code",
   "execution_count": 79,
   "metadata": {},
   "outputs": [],
   "source": [
    "# creamos el modelo de regression logística.\n",
    "ks_model = LogisticRegression()"
   ]
  },
  {
   "cell_type": "markdown",
   "metadata": {},
   "source": [
    "Next, fit the model to our training data. We have already separated our data into 4 parts. Use those in your model."
   ]
  },
  {
   "cell_type": "code",
   "execution_count": 80,
   "metadata": {},
   "outputs": [
    {
     "name": "stderr",
     "output_type": "stream",
     "text": [
      "/Users/andressalomferrer/anaconda3/lib/python3.6/site-packages/sklearn/linear_model/_logistic.py:939: ConvergenceWarning: lbfgs failed to converge (status=1):\n",
      "STOP: TOTAL NO. of ITERATIONS REACHED LIMIT.\n",
      "\n",
      "Increase the number of iterations (max_iter) or scale the data as shown in:\n",
      "    https://scikit-learn.org/stable/modules/preprocessing.html.\n",
      "Please also refer to the documentation for alternative solver options:\n",
      "    https://scikit-learn.org/stable/modules/linear_model.html#logistic-regression\n",
      "  extra_warning_msg=_LOGISTIC_SOLVER_CONVERGENCE_MSG)\n"
     ]
    },
    {
     "data": {
      "text/plain": [
       "LogisticRegression(C=1.0, class_weight=None, dual=False, fit_intercept=True,\n",
       "                   intercept_scaling=1, l1_ratio=None, max_iter=100,\n",
       "                   multi_class='auto', n_jobs=None, penalty='l2',\n",
       "                   random_state=None, solver='lbfgs', tol=0.0001, verbose=0,\n",
       "                   warm_start=False)"
      ]
     },
     "execution_count": 80,
     "metadata": {},
     "output_type": "execute_result"
    }
   ],
   "source": [
    "# Your code here: \n",
    "# Enseñamos con el train a nuestro modelo a como queremos que prediga.\n",
    "\n",
    "ks_model.fit(X_train, y_train)"
   ]
  },
  {
   "cell_type": "markdown",
   "metadata": {},
   "source": [
    "finally, import `confusion_matrix` and `accuracy_score` from `sklearn.metrics` and fit our testing data. Assign the fitted data to `y_pred` and print the confusion matrix as well as the accuracy score"
   ]
  },
  {
   "cell_type": "code",
   "execution_count": 82,
   "metadata": {},
   "outputs": [
    {
     "data": {
      "text/plain": [
       "array([0, 0, 0, 0, 0, 0, 0, 0, 0, 0, 0, 0, 0, 0, 0, 0, 0, 0, 0, 0, 0, 0,\n",
       "       0, 0, 0, 0, 0, 0, 0, 0, 0, 0, 0, 0, 0, 0, 0, 0, 0, 1, 0, 0, 0, 0,\n",
       "       0, 0, 0, 0, 0, 0, 0, 0, 0, 0, 0, 0, 0, 0, 0, 0, 1, 0, 0, 0, 0, 0,\n",
       "       0, 0, 0, 0, 0, 0, 0, 0, 0, 0, 0, 0, 0, 0, 0, 0, 0, 0, 0, 0, 0, 0,\n",
       "       0, 0, 0, 0, 0, 0, 0, 0, 0, 0, 0, 0, 0, 1, 0, 0, 0, 0, 0, 0, 0, 0,\n",
       "       0, 0, 0, 0, 0, 0, 0, 0, 0, 0, 0, 0, 0, 0, 0, 1, 0, 0, 0, 0, 0, 0,\n",
       "       0, 0, 0, 0, 0, 0, 0, 0, 0, 0, 0, 1, 0, 1, 0, 0, 0, 0, 0, 0, 0, 0,\n",
       "       0, 0, 0, 0, 0, 0, 0, 0, 0, 0, 0, 0, 0, 0, 0, 0, 0, 0, 0, 0, 0, 0,\n",
       "       0, 0, 0, 0, 0, 0, 0, 0, 0, 0, 0, 0, 0, 0, 0, 0, 0, 0, 0, 0, 1, 0,\n",
       "       0, 0, 0, 0, 0, 0, 0, 0, 0, 0, 0, 0, 0, 0, 0, 0, 0, 0, 0, 0, 0, 0,\n",
       "       0, 0, 0, 0, 0, 0, 1, 1, 0, 0, 0, 0, 0, 0, 1, 0, 0, 0, 0, 0, 0, 0,\n",
       "       0, 0, 0, 0, 0, 1, 0, 0, 0, 0, 0, 0, 0, 0, 0, 0, 0, 1, 0, 0, 0, 0,\n",
       "       0, 0, 0, 0, 0, 1, 0, 0, 0, 0, 0, 0, 0, 0, 0, 0, 0, 0, 0, 0, 0, 0,\n",
       "       0, 0, 0, 0, 1, 0, 0, 0, 1, 1, 0, 0, 1, 0, 0, 0, 1, 0, 0, 0, 0, 0,\n",
       "       0, 0, 0, 0, 0, 1, 0, 0, 1, 0, 0, 0, 0, 0, 0, 0, 0, 0, 0, 0, 1, 0,\n",
       "       0, 0, 0, 0, 0, 0, 0, 0, 0, 0, 0, 0, 0, 0, 0, 0, 0, 0, 0, 0, 0, 1,\n",
       "       0, 0, 0, 1])"
      ]
     },
     "execution_count": 82,
     "metadata": {},
     "output_type": "execute_result"
    }
   ],
   "source": [
    "# Your code here:\n",
    "# le decimos que con lo que ha aprendido nos prediga el otro data set, el X_test:\n",
    "\n",
    "y_pred = ks_model.predict(X_test)\n",
    "y_pred"
   ]
  },
  {
   "cell_type": "markdown",
   "metadata": {},
   "source": [
    "What are your thoughts on the performance of the model? Write your conclusions below."
   ]
  },
  {
   "cell_type": "code",
   "execution_count": 87,
   "metadata": {},
   "outputs": [],
   "source": [
    "# Your conclusions here:\n",
    "\n",
    "\n",
    "from sklearn.metrics import confusion_matrix\n",
    "from sklearn.metrics import accuracy_score "
   ]
  },
  {
   "cell_type": "code",
   "execution_count": 90,
   "metadata": {},
   "outputs": [
    {
     "data": {
      "text/plain": [
       "array([[296,  21],\n",
       "       [ 37,   2]])"
      ]
     },
     "execution_count": 90,
     "metadata": {},
     "output_type": "execute_result"
    }
   ],
   "source": [
    "confusion_matrix(y_test, y_pred)\n",
    "\n",
    "# TRUE POSITIVE: 296\n",
    "# TRUE NEGATVE: 2\n",
    "# FALSE POSITIVE: 21\n",
    "# FALSE NEGATIVE: 37"
   ]
  },
  {
   "cell_type": "code",
   "execution_count": 91,
   "metadata": {},
   "outputs": [
    {
     "data": {
      "text/plain": [
       "0.8370786516853933"
      ]
     },
     "execution_count": 91,
     "metadata": {},
     "output_type": "execute_result"
    }
   ],
   "source": [
    "accuracy_score(y_test, y_pred)"
   ]
  },
  {
   "cell_type": "markdown",
   "metadata": {},
   "source": [
    "#### Our second algorithm is is K-Nearest Neighbors. \n",
    "\n",
    "Though is it not required, we will fit a model using the training data and then test the performance of the model using the testing data. Start by loading `KNeighborsClassifier` from scikit-learn and then initializing and fitting the model. We'll start off with a model where k=3."
   ]
  },
  {
   "cell_type": "code",
   "execution_count": 93,
   "metadata": {},
   "outputs": [],
   "source": [
    "# Your code here:\n",
    "\n",
    "from sklearn.neighbors import KNeighborsClassifier"
   ]
  },
  {
   "cell_type": "code",
   "execution_count": 96,
   "metadata": {},
   "outputs": [],
   "source": [
    "knn = KNeighborsClassifier(n_neighbors=3)"
   ]
  },
  {
   "cell_type": "code",
   "execution_count": 99,
   "metadata": {},
   "outputs": [
    {
     "data": {
      "text/plain": [
       "KNeighborsClassifier(algorithm='auto', leaf_size=30, metric='minkowski',\n",
       "                     metric_params=None, n_jobs=None, n_neighbors=3, p=2,\n",
       "                     weights='uniform')"
      ]
     },
     "execution_count": 99,
     "metadata": {},
     "output_type": "execute_result"
    }
   ],
   "source": [
    "knn.fit(X_train, y_train)"
   ]
  },
  {
   "cell_type": "markdown",
   "metadata": {},
   "source": [
    "To test your model, compute the predicted values for the testing sample and print the confusion matrix as well as the accuracy score."
   ]
  },
  {
   "cell_type": "code",
   "execution_count": 100,
   "metadata": {},
   "outputs": [
    {
     "data": {
      "text/plain": [
       "array([1, 0, 0, 0, 1, 0, 0, 0, 0, 0, 1, 0, 0, 0, 0, 0, 0, 0, 0, 0, 0, 0,\n",
       "       0, 0, 0, 0, 1, 0, 0, 0, 0, 0, 0, 0, 0, 0, 0, 0, 0, 0, 0, 0, 1, 0,\n",
       "       0, 0, 0, 0, 0, 0, 0, 0, 0, 0, 0, 0, 0, 0, 0, 0, 0, 0, 0, 0, 0, 0,\n",
       "       0, 0, 0, 0, 0, 0, 0, 1, 0, 0, 0, 0, 0, 0, 1, 0, 0, 0, 0, 0, 0, 0,\n",
       "       0, 0, 0, 0, 0, 0, 0, 1, 0, 0, 0, 0, 0, 0, 0, 0, 0, 0, 0, 0, 1, 1,\n",
       "       0, 0, 0, 0, 0, 0, 0, 0, 0, 0, 0, 0, 0, 0, 1, 0, 0, 0, 0, 0, 0, 0,\n",
       "       0, 0, 0, 0, 0, 0, 0, 0, 0, 0, 0, 0, 0, 1, 0, 0, 0, 0, 0, 0, 0, 0,\n",
       "       0, 0, 0, 0, 0, 0, 1, 0, 0, 0, 0, 0, 0, 0, 0, 0, 0, 0, 1, 0, 0, 0,\n",
       "       1, 0, 0, 0, 0, 0, 0, 1, 0, 0, 0, 0, 1, 0, 0, 0, 0, 0, 0, 0, 0, 0,\n",
       "       0, 0, 1, 0, 0, 0, 0, 0, 0, 0, 0, 0, 0, 0, 0, 0, 0, 0, 0, 0, 0, 1,\n",
       "       0, 0, 0, 0, 0, 0, 0, 0, 0, 0, 0, 0, 0, 0, 0, 0, 0, 0, 0, 1, 0, 0,\n",
       "       0, 0, 0, 0, 0, 0, 0, 1, 0, 0, 0, 0, 0, 0, 0, 0, 0, 0, 0, 0, 0, 0,\n",
       "       0, 1, 0, 0, 0, 0, 0, 0, 0, 0, 0, 0, 0, 1, 0, 0, 0, 0, 0, 1, 0, 0,\n",
       "       0, 0, 0, 0, 0, 0, 0, 0, 0, 0, 0, 0, 0, 0, 0, 0, 0, 0, 0, 0, 0, 1,\n",
       "       0, 0, 0, 1, 0, 0, 0, 0, 0, 1, 0, 0, 0, 1, 0, 0, 0, 0, 0, 0, 0, 0,\n",
       "       0, 0, 0, 0, 0, 0, 1, 0, 1, 0, 0, 0, 0, 1, 0, 0, 0, 0, 0, 0, 0, 0,\n",
       "       0, 0, 0, 0])"
      ]
     },
     "execution_count": 100,
     "metadata": {},
     "output_type": "execute_result"
    }
   ],
   "source": [
    "# Your code here:\n",
    "\n",
    "y_pred = knn.predict(X_test)\n",
    "y_pred"
   ]
  },
  {
   "cell_type": "code",
   "execution_count": 101,
   "metadata": {},
   "outputs": [
    {
     "data": {
      "text/plain": [
       "array([[306,  11],\n",
       "       [ 19,  20]])"
      ]
     },
     "execution_count": 101,
     "metadata": {},
     "output_type": "execute_result"
    }
   ],
   "source": [
    "confusion_matrix(y_test, y_pred)"
   ]
  },
  {
   "cell_type": "code",
   "execution_count": 102,
   "metadata": {},
   "outputs": [
    {
     "data": {
      "text/plain": [
       "0.9157303370786517"
      ]
     },
     "execution_count": 102,
     "metadata": {},
     "output_type": "execute_result"
    }
   ],
   "source": [
    "accuracy_score(y_test, y_pred)"
   ]
  },
  {
   "cell_type": "markdown",
   "metadata": {},
   "source": [
    "#### We'll create another K-Nearest Neighbors model with k=5. \n",
    "\n",
    "Initialize and fit the model below and print the confusion matrix and the accuracy score."
   ]
  },
  {
   "cell_type": "code",
   "execution_count": 104,
   "metadata": {},
   "outputs": [],
   "source": [
    "# Your code here:\n",
    "\n",
    "knn = KNeighborsClassifier(n_neighbors=5)"
   ]
  },
  {
   "cell_type": "code",
   "execution_count": 105,
   "metadata": {},
   "outputs": [
    {
     "data": {
      "text/plain": [
       "KNeighborsClassifier(algorithm='auto', leaf_size=30, metric='minkowski',\n",
       "                     metric_params=None, n_jobs=None, n_neighbors=5, p=2,\n",
       "                     weights='uniform')"
      ]
     },
     "execution_count": 105,
     "metadata": {},
     "output_type": "execute_result"
    }
   ],
   "source": [
    "knn.fit(X_train, y_train)"
   ]
  },
  {
   "cell_type": "code",
   "execution_count": 106,
   "metadata": {},
   "outputs": [
    {
     "data": {
      "text/plain": [
       "array([1, 0, 0, 1, 1, 0, 0, 0, 0, 0, 1, 0, 0, 0, 0, 0, 0, 0, 0, 0, 1, 0,\n",
       "       0, 0, 0, 0, 1, 0, 0, 0, 0, 0, 0, 0, 0, 0, 0, 0, 0, 0, 0, 0, 1, 0,\n",
       "       0, 0, 0, 0, 0, 0, 0, 0, 0, 0, 0, 0, 0, 0, 0, 0, 0, 0, 0, 0, 0, 0,\n",
       "       0, 0, 0, 0, 0, 0, 0, 1, 0, 0, 0, 0, 0, 0, 1, 0, 0, 0, 0, 0, 0, 0,\n",
       "       0, 0, 0, 0, 0, 0, 0, 1, 0, 0, 0, 0, 0, 0, 0, 0, 0, 0, 0, 0, 0, 0,\n",
       "       0, 0, 0, 0, 0, 0, 0, 0, 0, 0, 0, 0, 0, 0, 1, 0, 0, 0, 0, 0, 0, 0,\n",
       "       0, 0, 0, 0, 0, 0, 0, 0, 0, 0, 0, 0, 0, 1, 0, 0, 0, 0, 0, 0, 0, 0,\n",
       "       0, 0, 0, 0, 0, 0, 1, 0, 0, 0, 0, 0, 0, 0, 0, 0, 0, 0, 0, 0, 0, 0,\n",
       "       1, 0, 0, 0, 0, 0, 0, 1, 0, 0, 0, 0, 1, 0, 0, 0, 0, 0, 0, 0, 1, 0,\n",
       "       0, 0, 1, 0, 0, 0, 0, 0, 0, 0, 0, 0, 0, 0, 0, 0, 0, 0, 0, 0, 0, 0,\n",
       "       0, 0, 0, 0, 0, 0, 0, 0, 0, 0, 0, 0, 0, 0, 0, 0, 0, 0, 0, 1, 0, 0,\n",
       "       0, 0, 0, 0, 0, 0, 0, 0, 0, 0, 1, 0, 0, 1, 0, 0, 0, 0, 0, 0, 0, 0,\n",
       "       0, 1, 0, 0, 0, 0, 0, 0, 0, 0, 0, 0, 0, 1, 0, 0, 0, 0, 0, 1, 0, 0,\n",
       "       0, 0, 0, 0, 0, 0, 0, 0, 0, 0, 0, 0, 0, 0, 0, 0, 0, 0, 0, 0, 0, 1,\n",
       "       0, 0, 0, 1, 0, 0, 0, 0, 0, 0, 0, 0, 0, 1, 0, 0, 0, 0, 0, 0, 0, 0,\n",
       "       0, 0, 0, 0, 0, 0, 0, 0, 0, 0, 0, 1, 0, 1, 0, 0, 0, 0, 0, 0, 0, 0,\n",
       "       0, 0, 0, 0])"
      ]
     },
     "execution_count": 106,
     "metadata": {},
     "output_type": "execute_result"
    }
   ],
   "source": [
    "y_pred = knn.predict(X_test)\n",
    "y_pred"
   ]
  },
  {
   "cell_type": "code",
   "execution_count": 107,
   "metadata": {},
   "outputs": [
    {
     "data": {
      "text/plain": [
       "array([[307,  10],\n",
       "       [ 20,  19]])"
      ]
     },
     "execution_count": 107,
     "metadata": {},
     "output_type": "execute_result"
    }
   ],
   "source": [
    "confusion_matrix(y_test, y_pred)"
   ]
  },
  {
   "cell_type": "code",
   "execution_count": 108,
   "metadata": {},
   "outputs": [
    {
     "data": {
      "text/plain": [
       "0.9157303370786517"
      ]
     },
     "execution_count": 108,
     "metadata": {},
     "output_type": "execute_result"
    }
   ],
   "source": [
    "accuracy_score(y_test, y_pred)"
   ]
  },
  {
   "cell_type": "markdown",
   "metadata": {},
   "source": [
    "Did you see an improvement in the confusion matrix when increasing k to 5? Did you see an improvement in the accuracy score? Write your conclusions below."
   ]
  },
  {
   "cell_type": "code",
   "execution_count": null,
   "metadata": {},
   "outputs": [],
   "source": [
    "# Your conclusions here:\n",
    "\n",
    "# I see an improvement in true positives in the confusion matrix k=5 but not in the true negatives."
   ]
  },
  {
   "cell_type": "markdown",
   "metadata": {},
   "source": [
    "# Bonus Challenge - Feature Scaling\n",
    "\n",
    "Problem-solving in machine learning is iterative. You can improve your model prediction with various techniques (there is a sweetspot for the time you spend and the improvement you receive though). Now you've completed only one iteration of ML analysis. There are more iterations you can conduct to make improvements. In order to be able to do that, you will need deeper knowledge in statistics and master more data analysis techniques. In this bootcamp, we don't have time to achieve that advanced goal. But you will make constant efforts after the bootcamp to eventually get there.\n",
    "\n",
    "However, now we do want you to learn one of the advanced techniques which is called *feature scaling*. The idea of feature scaling is to standardize/normalize the range of independent variables or features of the data. This can make the outliers more apparent so that you can remove them. This step needs to happen during Challenge 6 after you split the training and test data because you don't want to split the data again which makes it impossible to compare your results with and without feature scaling. For general concepts about feature scaling, click [here](https://en.wikipedia.org/wiki/Feature_scaling). To read deeper, click [here](https://medium.com/greyatom/why-how-and-when-to-scale-your-features-4b30ab09db5e).\n",
    "\n",
    "In the next cell, attempt to improve your model prediction accuracy by means of feature scaling. A library you can utilize is `sklearn.preprocessing.RobustScaler` ([documentation](https://scikit-learn.org/stable/modules/generated/sklearn.preprocessing.RobustScaler.html)). You'll use the `RobustScaler` to fit and transform your `X_train`, then transform `X_test`. You will use logistic regression to fit and predict your transformed data and obtain the accuracy score in the same way. Compare the accuracy score with your normalized data with the previous accuracy data. Is there an improvement?"
   ]
  },
  {
   "cell_type": "code",
   "execution_count": 57,
   "metadata": {},
   "outputs": [],
   "source": [
    "# Your code here"
   ]
  },
  {
   "cell_type": "code",
   "execution_count": null,
   "metadata": {},
   "outputs": [],
   "source": []
  }
 ],
 "metadata": {
  "kernelspec": {
   "display_name": "Python 3",
   "language": "python",
   "name": "python3"
  },
  "language_info": {
   "codemirror_mode": {
    "name": "ipython",
    "version": 3
   },
   "file_extension": ".py",
   "mimetype": "text/x-python",
   "name": "python",
   "nbconvert_exporter": "python",
   "pygments_lexer": "ipython3",
   "version": "3.6.9"
  }
 },
 "nbformat": 4,
 "nbformat_minor": 2
}
